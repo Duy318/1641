{
 "cells": [
  {
   "cell_type": "code",
   "execution_count": 1,
   "id": "b8a8f671",
   "metadata": {},
   "outputs": [
    {
     "name": "stdout",
     "output_type": "stream",
     "text": [
      "What is your name? duy\n",
      "What is your age? 20\n",
      "{'name': 'duy', 'age': '20'}\n"
     ]
    }
   ],
   "source": [
    "name = input('What is your name? ')\n",
    "age = input('What is your age? ')\n",
    "\n",
    "person = { 'name' : name, 'age' : age }\n",
    "\n",
    "print(person)"
   ]
  },
  {
   "cell_type": "code",
   "execution_count": 2,
   "id": "9177de6b",
   "metadata": {},
   "outputs": [
    {
     "name": "stdout",
     "output_type": "stream",
     "text": [
      "cheese\n",
      "sausage\n",
      "peppers\n"
     ]
    }
   ],
   "source": [
    "pizza = {\n",
    "    \"ingredients\" : [\"cheese\", \"sausage\", \"peppers\"]\n",
    "}\n",
    "\n",
    "for topping in pizza[\"ingredients\"]:\n",
    "    print(topping)"
   ]
  },
  {
   "cell_type": "code",
   "execution_count": 3,
   "id": "6a624c08",
   "metadata": {},
   "outputs": [
    {
     "name": "stdout",
     "output_type": "stream",
     "text": [
      "What is your name? duy\n",
      "What is your address? Cao Bang\n",
      "What is your number? 123\n",
      "name: duy\n",
      "address: Cao Bang\n",
      "number: 123\n"
     ]
    }
   ],
   "source": [
    "info = {}\n",
    "\n",
    "name = input(\"What is your name? \")\n",
    "address = input(\"What is your address? \")\n",
    "number = input(\"What is your number? \")\n",
    "\n",
    "info[\"name\"] = name\n",
    "info[\"address\"] = address\n",
    "info[\"number\"] = number\n",
    "\n",
    "for k, v in info.items():\n",
    "    print(\"{}: {}\".format(k, v))"
   ]
  },
  {
   "cell_type": "code",
   "execution_count": 5,
   "id": "8def536d",
   "metadata": {},
   "outputs": [
    {
     "name": "stdout",
     "output_type": "stream",
     "text": [
      "John Smith\n"
     ]
    }
   ],
   "source": [
    "person = { \"name\": \"John Smith\" }\n",
    "print(person[\"name\"])"
   ]
  },
  {
   "cell_type": "code",
   "execution_count": 6,
   "id": "c39e7fb1",
   "metadata": {},
   "outputs": [
    {
     "name": "stdout",
     "output_type": "stream",
     "text": [
      "Enter an account number or quit: 12\n",
      "Enter an account number or quit: 123\n",
      "Enter an account number or quit: quit\n",
      "Account Number: 12\n",
      "Account Number: 123\n"
     ]
    }
   ],
   "source": [
    "accounts = []\n",
    "done = False\n",
    "\n",
    "while not done:\n",
    "    ans = input('Enter an account number or quit: ').lower()\n",
    "    \n",
    "    if ans == 'quit':\n",
    "        done = True\n",
    "        \n",
    "        accounts = frozenset(accounts)\n",
    "        for acc in accounts:\n",
    "            print(\"Account Number: {}\".format(acc))\n",
    "            \n",
    "    else:\n",
    "        accounts.append(ans)"
   ]
  },
  {
   "cell_type": "code",
   "execution_count": 8,
   "id": "450f5e32",
   "metadata": {},
   "outputs": [
    {
     "name": "stdout",
     "output_type": "stream",
     "text": [
      "{10, 3, 4, 7}\n"
     ]
    }
   ],
   "source": [
    "nums = [3, 4, 3, 7, 10]\n",
    "nums = set(nums)\n",
    "print(nums)"
   ]
  },
  {
   "cell_type": "code",
   "execution_count": 9,
   "id": "a04b2364",
   "metadata": {},
   "outputs": [
    {
     "name": "stdout",
     "output_type": "stream",
     "text": [
      "What is your favorite number? 112\n"
     ]
    }
   ],
   "source": [
    "ans = input(\"What is your favorite number? \")\n",
    "f = open(\"numbers.txt\", 'w+') \n",
    "f.write('favorite number is {}'.format(ans))\n",
    "f.close()"
   ]
  },
  {
   "cell_type": "code",
   "execution_count": 12,
   "id": "beb3ee08",
   "metadata": {},
   "outputs": [],
   "source": [
    "data = {\n",
    "    \"name\" : [\"Dave\", \"Dennis\", \"Peter\", \"Jess\"],\n",
    "    \"language\" : [\"Python\", 'C', \"Java\", \"Python\"]\n",
    "}\n",
    "\n",
    "import csv\n",
    "\n",
    "with open(\"data.csv\", mode=\"w\", newline='') as f:\n",
    "    writer = csv.writer(f, delimiter=',')\n",
    "    writer.writerow(data.keys())\n",
    "    \n",
    "    for i in range(len(data[\"name\"])):\n",
    "        writer.writerow([data[\"name\"][i], data[\"language\"][i]])"
   ]
  },
  {
   "cell_type": "code",
   "execution_count": null,
   "id": "3cda4d66",
   "metadata": {},
   "outputs": [],
   "source": [
    "def saveFood():\n",
    "    ans = input('What is your favorite food? ')\n",
    "    \n",
    "    with open('favorite_food.csv', mode='a', newline='') as f:\n",
    "        writer = csv.writer(f, delimiter=',')\n",
    "        \n",
    "        writer.writerow([ans])\n",
    "    \n",
    "    print('Food added!')\n",
    "    \n",
    "def countFood():\n",
    "    food_count = {}\n",
    "    \n",
    "    with open('favorite_food.csv', mode='r') as f:\n",
    "        reader = csv.reader(f, delimiter=',')\n",
    "        \n",
    "        for row in reader:\n",
    "            if row[0].lower() in food_count:\n",
    "                food_count[row[0].lower()] += 1\n",
    "            else:\n",
    "                food_count[row[0].lower()] = 1\n",
    "                \n",
    "    return food_count\n",
    "\n",
    "def main():\n",
    "    while input('Would you like to add more? ').lower() != 'no':\n",
    "        saveFood()\n",
    "        \n",
    "    clear_output()\n",
    "    \n",
    "    print('Here are the results so far...')\n",
    "    \n",
    "    food_count = countFood()\n",
    "    \n",
    "    for k, v in food_count.items():\n",
    "        print(\"{}: {}\".format(k, v))\n",
    "        \n",
    "main()\n"
   ]
  },
  {
   "cell_type": "code",
   "execution_count": null,
   "id": "3ff6420b",
   "metadata": {},
   "outputs": [],
   "source": []
  }
 ],
 "metadata": {
  "kernelspec": {
   "display_name": "Python 3 (ipykernel)",
   "language": "python",
   "name": "python3"
  },
  "language_info": {
   "codemirror_mode": {
    "name": "ipython",
    "version": 3
   },
   "file_extension": ".py",
   "mimetype": "text/x-python",
   "name": "python",
   "nbconvert_exporter": "python",
   "pygments_lexer": "ipython3",
   "version": "3.9.13"
  }
 },
 "nbformat": 4,
 "nbformat_minor": 5
}
