{
 "cells": [
  {
   "cell_type": "code",
   "execution_count": 1,
   "id": "ecc146d7",
   "metadata": {},
   "outputs": [
    {
     "name": "stdout",
     "output_type": "stream",
     "text": [
      "[5, 10, 15.2, 20]\n"
     ]
    }
   ],
   "source": [
    "nums = [5, 10, 15.2, 20]\n",
    "print(nums)"
   ]
  },
  {
   "cell_type": "code",
   "execution_count": 2,
   "id": "041518db",
   "metadata": {},
   "outputs": [
    {
     "name": "stdout",
     "output_type": "stream",
     "text": [
      "10\n",
      "15.2\n"
     ]
    }
   ],
   "source": [
    "print( nums[1])\n",
    "\n",
    "num = nums[2]\n",
    "print(num)"
   ]
  },
  {
   "cell_type": "code",
   "execution_count": 3,
   "id": "346f10e8",
   "metadata": {},
   "outputs": [
    {
     "name": "stdout",
     "output_type": "stream",
     "text": [
      "[4.3, 'Hai Duy Hoang', True]\n"
     ]
    }
   ],
   "source": [
    "num = 4.3\n",
    "myname = \"Hai Duy Hoang\"\n",
    "data = [num, myname, True]\n",
    "print(data)"
   ]
  },
  {
   "cell_type": "code",
   "execution_count": 6,
   "id": "45d9ee98",
   "metadata": {},
   "outputs": [
    {
     "name": "stdout",
     "output_type": "stream",
     "text": [
      "[5, 'book', [34, 'hello'], True]\n",
      "[34, 'hello']\n",
      "hello\n"
     ]
    }
   ],
   "source": [
    "data = [5, \"book\", [34, \"hello\"], True]\n",
    "print(data)\n",
    "\n",
    "print(data[2])\n",
    "\n",
    "print(data[2][1])"
   ]
  },
  {
   "cell_type": "code",
   "execution_count": 7,
   "id": "b62e7c18",
   "metadata": {},
   "outputs": [
    {
     "name": "stdout",
     "output_type": "stream",
     "text": [
      "hello\n"
     ]
    }
   ],
   "source": [
    "inner_list = data[2]\n",
    "print( inner_list[1])"
   ]
  },
  {
   "cell_type": "code",
   "execution_count": 8,
   "id": "3541b39f",
   "metadata": {},
   "outputs": [
    {
     "name": "stdout",
     "output_type": "stream",
     "text": [
      "[5, 10, 15, 20]\n",
      "[100, 10, 15, 20]\n"
     ]
    }
   ],
   "source": [
    "data = [5, 10, 15,20]\n",
    "print(data)\n",
    "data[0] = 100\n",
    "print(data)"
   ]
  },
  {
   "cell_type": "code",
   "execution_count": 10,
   "id": "102093be",
   "metadata": {},
   "outputs": [
    {
     "name": "stdout",
     "output_type": "stream",
     "text": [
      "a: [5, 10]\tb: [5, 10]\n",
      "a: [20, 10]\t b: [20, 10]\n"
     ]
    }
   ],
   "source": [
    "a = [5, 10]\n",
    "b = a\n",
    "\n",
    "print(\"a: {}\\tb: {}\".format(a, b))\n",
    "\n",
    "a[0] = 20\n",
    "print(\"a: {}\\t b: {}\".format(a, b))"
   ]
  },
  {
   "cell_type": "code",
   "execution_count": 12,
   "id": "b49c67a6",
   "metadata": {},
   "outputs": [
    {
     "name": "stdout",
     "output_type": "stream",
     "text": [
      "data:[80, 10, 15, 20]\t data_copy: [5, 10, 15, 20]\n"
     ]
    }
   ],
   "source": [
    "data = [5, 10, 15, 20]\n",
    "data_copy = data[:]\n",
    "data[0] = 80\n",
    "print(\"data:{}\\t data_copy: {}\".format(data, data_copy))"
   ]
  },
  {
   "cell_type": "code",
   "execution_count": 17,
   "id": "573ff984",
   "metadata": {},
   "outputs": [
    {
     "name": "stdout",
     "output_type": "stream",
     "text": [
      "Value: 0\n",
      "Value: 1\n",
      "Value: 2\n",
      "Value: 3\n",
      "Value: 4\n"
     ]
    }
   ],
   "source": [
    "for num in range(5):\n",
    "    print('Value: {}'.format(num))"
   ]
  },
  {
   "cell_type": "code",
   "execution_count": 18,
   "id": "b1ed7473",
   "metadata": {},
   "outputs": [
    {
     "name": "stdout",
     "output_type": "stream",
     "text": [
      "Value: 5\n",
      "Value: 6\n",
      "Value: 7\n",
      "Value: 8\n",
      "Value: 9\n"
     ]
    }
   ],
   "source": [
    "for num in range(5,10):\n",
    "    print('Value: {}'.format(num))"
   ]
  },
  {
   "cell_type": "code",
   "execution_count": 19,
   "id": "3019a27c",
   "metadata": {},
   "outputs": [
    {
     "name": "stdout",
     "output_type": "stream",
     "text": [
      "Value: 0\n",
      "Value: 2\n",
      "Value: 4\n",
      "Value: 6\n",
      "Value: 8\n"
     ]
    }
   ],
   "source": [
    "for num in range(0,10, 2):\n",
    "    print('Value: {}'.format(num))"
   ]
  },
  {
   "cell_type": "code",
   "execution_count": 20,
   "id": "3099b930",
   "metadata": {},
   "outputs": [
    {
     "name": "stdout",
     "output_type": "stream",
     "text": [
      "Value: U\n",
      "Value: n\n",
      "Value: i\n",
      "Value: v\n",
      "Value: e\n",
      "Value: r\n",
      "Value: s\n",
      "Value: i\n",
      "Value: t\n",
      "Value: y\n",
      "Value:  \n",
      "Value: o\n",
      "Value: f\n",
      "Value:  \n",
      "Value: G\n",
      "Value: r\n",
      "Value: e\n",
      "Value: e\n",
      "Value: n\n",
      "Value: w\n",
      "Value: i\n",
      "Value: c\n",
      "Value: h\n"
     ]
    }
   ],
   "source": [
    "name = \"University of Greenwich\"\n",
    "for letter in name:\n",
    "    print(\"Value: {}\".format(letter))"
   ]
  },
  {
   "cell_type": "code",
   "execution_count": 21,
   "id": "79585db7",
   "metadata": {},
   "outputs": [
    {
     "name": "stdout",
     "output_type": "stream",
     "text": [
      "0\n",
      "1\n",
      "2\n",
      "4\n",
      "0\n",
      "1\n",
      "2\n"
     ]
    }
   ],
   "source": [
    "for num in range(5):\n",
    "    if num == 3:\n",
    "        continue\n",
    "    print(num)\n",
    "for num in range(5):\n",
    "    if num == 3:\n",
    "        break\n",
    "    print(num)"
   ]
  },
  {
   "cell_type": "code",
   "execution_count": 24,
   "id": "77c06bc4",
   "metadata": {},
   "outputs": [
    {
     "name": "stdout",
     "output_type": "stream",
     "text": [
      "10\n",
      "9\n",
      "8\n",
      "7\n",
      "6\n",
      "5\n",
      "4\n",
      "3\n",
      "2\n",
      "1\n"
     ]
    }
   ],
   "source": [
    "health = 10\n",
    "\n",
    "while health > 0:\n",
    "    print(health)\n",
    "    health -= 1"
   ]
  },
  {
   "cell_type": "code",
   "execution_count": 25,
   "id": "f5c9eee6",
   "metadata": {},
   "outputs": [
    {
     "name": "stdout",
     "output_type": "stream",
     "text": [
      "0 0\n",
      "0 1\n",
      "0 2\n",
      "1 0\n",
      "1 1\n",
      "1 2\n"
     ]
    }
   ],
   "source": [
    "for i in range(2):\n",
    "    for j in range(3):\n",
    "        print(i, j)"
   ]
  },
  {
   "cell_type": "code",
   "execution_count": 31,
   "id": "a6dee970",
   "metadata": {},
   "outputs": [
    {
     "name": "stdout",
     "output_type": "stream",
     "text": [
      "5\n"
     ]
    }
   ],
   "source": [
    "nums = [5, 10, 15, 20, 25]\n",
    "length = len(nums)\n",
    "print(length)"
   ]
  },
  {
   "cell_type": "code",
   "execution_count": 33,
   "id": "7f07150e",
   "metadata": {},
   "outputs": [
    {
     "name": "stdout",
     "output_type": "stream",
     "text": [
      "[10, 15, 20, 25]\n",
      "[5, 10, 15, 20]\n",
      "[5, 15, 25]\n",
      "[20, 25]\n"
     ]
    }
   ],
   "source": [
    "print( nums[1 : 5])\n",
    "print( nums[: 4])\n",
    "print( nums[: : 2])\n",
    "print( nums[-2: ])"
   ]
  },
  {
   "cell_type": "code",
   "execution_count": 34,
   "id": "c9a0dd86",
   "metadata": {},
   "outputs": [
    {
     "name": "stdout",
     "output_type": "stream",
     "text": [
      "[10, 20, 5]\n",
      "[10, 20, 5, 18]\n"
     ]
    }
   ],
   "source": [
    "nums = [10, 20]\n",
    "nums.append(5)\n",
    "print(nums)\n",
    "nums.append(18)\n",
    "print(nums)"
   ]
  },
  {
   "cell_type": "code",
   "execution_count": 35,
   "id": "1e18507a",
   "metadata": {},
   "outputs": [
    {
     "name": "stdout",
     "output_type": "stream",
     "text": [
      "['glove', 'ball', 'base']\n"
     ]
    }
   ],
   "source": [
    "words = [\"ball\", \"base\"]\n",
    "words.insert(0,\"glove\")\n",
    "print(words)"
   ]
  },
  {
   "cell_type": "code",
   "execution_count": 36,
   "id": "0652dfc1",
   "metadata": {},
   "outputs": [
    {
     "name": "stdout",
     "output_type": "stream",
     "text": [
      "Before remove: ['ring', 'ball', 'book', 'computer'] \n",
      "\n",
      "After remove: ['ring', 'ball', 'computer'] \n",
      "\n"
     ]
    }
   ],
   "source": [
    "items = [\"ring\", \"ball\", \"book\", \"computer\"]\n",
    "print(\"Before remove: {} \\n\".format(items))\n",
    "items.pop(2)\n",
    "print(\"After remove: {} \\n\".format(items))"
   ]
  },
  {
   "cell_type": "code",
   "execution_count": 38,
   "id": "57e1a4de",
   "metadata": {},
   "outputs": [
    {
     "name": "stdout",
     "output_type": "stream",
     "text": [
      "Before remove: ['baseball', 'soccer', 'football', 'hockey'] \n",
      "\n",
      "After remove: ['baseball', 'football', 'hockey'] \n",
      "\n"
     ]
    }
   ],
   "source": [
    "sports = [\"baseball\", \"soccer\", \"football\", \"hockey\"]\n",
    "print(\"Before remove: {} \\n\".format(sports))\n",
    "sports.remove(\"soccer\")\n",
    "print(\"After remove: {} \\n\".format(sports))"
   ]
  },
  {
   "cell_type": "code",
   "execution_count": 39,
   "id": "1854730a",
   "metadata": {},
   "outputs": [
    {
     "name": "stdout",
     "output_type": "stream",
     "text": [
      "3\n",
      "9\n",
      "17\n"
     ]
    }
   ],
   "source": [
    "nums = [5, 3, 9]\n",
    "print( min(nums))\n",
    "print( max(nums))\n",
    "print( sum(nums))"
   ]
  },
  {
   "cell_type": "code",
   "execution_count": 40,
   "id": "e9bf5c87",
   "metadata": {},
   "outputs": [
    {
     "name": "stdout",
     "output_type": "stream",
     "text": [
      "After sorting: [0, 2, 5, 8]\n"
     ]
    }
   ],
   "source": [
    "nums = [5, 8, 0, 2]\n",
    "sorted_nums = sorted(nums)\n",
    "print(\"After sorting: {}\".format(sorted_nums))"
   ]
  },
  {
   "cell_type": "code",
   "execution_count": 41,
   "id": "07216835",
   "metadata": {},
   "outputs": [
    {
     "name": "stdout",
     "output_type": "stream",
     "text": [
      "found\n",
      "not found\n"
     ]
    }
   ],
   "source": [
    "names = [\"Jack\", \"Robert\", \"Mary\"]\n",
    "if \"Mary\" in names:\n",
    "    print(\"found\")\n",
    "    \n",
    "if \"Jimmy\" not in names:\n",
    "    print(\"not found\")"
   ]
  },
  {
   "cell_type": "code",
   "execution_count": 42,
   "id": "946b619b",
   "metadata": {},
   "outputs": [
    {
     "name": "stdout",
     "output_type": "stream",
     "text": [
      "It is empty.\n"
     ]
    }
   ],
   "source": [
    "nums = []\n",
    "if not nums:\n",
    "    print(\"It is empty.\")"
   ]
  },
  {
   "cell_type": "code",
   "execution_count": 43,
   "id": "dce0fe59",
   "metadata": {},
   "outputs": [
    {
     "name": "stdout",
     "output_type": "stream",
     "text": [
      "Baseball\n",
      "Hockey\n",
      "Football\n",
      "Basketball\n"
     ]
    }
   ],
   "source": [
    "sports = [\"Baseball\", \"Hockey\", \"Football\", \"Basketball\"]\n",
    "for names in sports:\n",
    "    print(names)"
   ]
  },
  {
   "cell_type": "code",
   "execution_count": 44,
   "id": "fcb1a099",
   "metadata": {},
   "outputs": [
    {
     "name": "stdout",
     "output_type": "stream",
     "text": [
      "['Jack', 'Rob', 'Robert']\n"
     ]
    }
   ],
   "source": [
    "names = [\"Bob\", \"Jack\", \"Rob\", \"Bob\", \"Robert\"]\n",
    "while \"Bob\" in names:\n",
    "    names.remove(\"Bob\")\n",
    "    \n",
    "print(names)"
   ]
  }
 ],
 "metadata": {
  "kernelspec": {
   "display_name": "Python 3 (ipykernel)",
   "language": "python",
   "name": "python3"
  },
  "language_info": {
   "codemirror_mode": {
    "name": "ipython",
    "version": 3
   },
   "file_extension": ".py",
   "mimetype": "text/x-python",
   "name": "python",
   "nbconvert_exporter": "python",
   "pygments_lexer": "ipython3",
   "version": "3.9.13"
  }
 },
 "nbformat": 4,
 "nbformat_minor": 5
}
