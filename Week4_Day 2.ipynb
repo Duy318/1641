{
 "cells": [
  {
   "cell_type": "code",
   "execution_count": 1,
   "id": "f9d8a1c6",
   "metadata": {},
   "outputs": [
    {
     "name": "stdout",
     "output_type": "stream",
     "text": [
      "<__main__.Car object at 0x000002BCCB97B670>\n"
     ]
    }
   ],
   "source": [
    "class Car():\n",
    "    pass\n",
    "\n",
    "ford = Car()\n",
    "print(ford)"
   ]
  },
  {
   "cell_type": "code",
   "execution_count": 2,
   "id": "1b401e0c",
   "metadata": {},
   "outputs": [
    {
     "name": "stdout",
     "output_type": "stream",
     "text": [
      "188118001616\n",
      "188118001442\n"
     ]
    }
   ],
   "source": [
    "class Human():\n",
    "    pass\n",
    "\n",
    "john = Human()\n",
    "william = Human()\n",
    "\n",
    "print( hash(john))\n",
    "print( hash(william))"
   ]
  },
  {
   "cell_type": "code",
   "execution_count": 4,
   "id": "db46a320",
   "metadata": {},
   "outputs": [
    {
     "name": "stdout",
     "output_type": "stream",
     "text": [
      "Vietnam\n",
      "Male\n",
      "U.S\n"
     ]
    }
   ],
   "source": [
    "class Human():\n",
    "    nationality = \"Vietnam\"\n",
    "    gender = \"Male\"\n",
    "    \n",
    "john = Human()\n",
    "print(john.nationality)\n",
    "print(john.gender)\n",
    "\n",
    "john.nationality = \"U.S\"\n",
    "print(john.nationality)"
   ]
  },
  {
   "cell_type": "code",
   "execution_count": 7,
   "id": "23eb3b86",
   "metadata": {},
   "outputs": [
    {
     "name": "stdout",
     "output_type": "stream",
     "text": [
      "Vietnam\n",
      "Male\n",
      "U.S\n",
      "Male\n"
     ]
    }
   ],
   "source": [
    "class Human():\n",
    "    def __init__(self,nationality, gender):\n",
    "        self.nationality = nationality\n",
    "        self.gender = gender\n",
    "        \n",
    "john = Human(\"Vietnam\", \"Male\")\n",
    "william = Human(\"U.S\", \"Male\")\n",
    "print(john.nationality)\n",
    "print(john.gender)\n",
    "\n",
    "print(william.nationality)\n",
    "print(william.gender)"
   ]
  },
  {
   "cell_type": "code",
   "execution_count": 8,
   "id": "0c8c54df",
   "metadata": {},
   "outputs": [
    {
     "name": "stdout",
     "output_type": "stream",
     "text": [
      "beep\n",
      "blue\n"
     ]
    }
   ],
   "source": [
    "class Car():\n",
    "    sound = \"beep\"\n",
    "    def __init__(self, color):\n",
    "        self.color = \"blue\"\n",
    "        \n",
    "print(Car.sound)\n",
    "ford = Car(\"blue\")\n",
    "print(ford.color)"
   ]
  },
  {
   "cell_type": "code",
   "execution_count": 9,
   "id": "8e86ff5a",
   "metadata": {},
   "outputs": [
    {
     "name": "stdout",
     "output_type": "stream",
     "text": [
      "bark\n"
     ]
    }
   ],
   "source": [
    "class Dog():\n",
    "    def makeSound(self):\n",
    "        print(\"bark\")\n",
    "        \n",
    "sam = Dog()\n",
    "sam.makeSound()"
   ]
  },
  {
   "cell_type": "code",
   "execution_count": 11,
   "id": "0553a69f",
   "metadata": {},
   "outputs": [
    {
     "name": "stdout",
     "output_type": "stream",
     "text": [
      "bark\n",
      "high\n",
      "low\n",
      "high\n"
     ]
    }
   ],
   "source": [
    "class Dog():\n",
    "    sound = \"bark\"\n",
    "    volume = \"high\"\n",
    "    def makeSound(self):\n",
    "        print(self.sound)\n",
    "        print(self.volume)\n",
    "        \n",
    "sam = Dog()\n",
    "sam.makeSound()\n",
    "\n",
    "sam.sound = \"Meow\"\n",
    "sam.sound = \"low\"\n",
    "sam.makeSound()"
   ]
  },
  {
   "cell_type": "code",
   "execution_count": 18,
   "id": "87140db4",
   "metadata": {},
   "outputs": [
    {
     "name": "stdout",
     "output_type": "stream",
     "text": [
      "This is a dog.\n",
      "bark\n",
      "7\n"
     ]
    }
   ],
   "source": [
    "class Dog():\n",
    "    sound = \"bark\"\n",
    "    age = 6\n",
    "    def makeSound(self):\n",
    "        print(self.sound)\n",
    "    def printInfo():\n",
    "        print(\"This is a dog.\")\n",
    "    def showAge(self, age):\n",
    "        print(age)\n",
    "Dog.printInfo()\n",
    "sam = Dog()\n",
    "sam.makeSound()\n",
    "sam.showAge(7)"
   ]
  },
  {
   "cell_type": "code",
   "execution_count": 19,
   "id": "decbf9c2",
   "metadata": {},
   "outputs": [
    {
     "name": "stdout",
     "output_type": "stream",
     "text": [
      "Rockey\n"
     ]
    }
   ],
   "source": [
    "class Dog():\n",
    "    name = \"\"\n",
    "    def setName(self, new_name):\n",
    "        self.name = new_name\n",
    "    def getName(self):\n",
    "        return self.name\n",
    "mydog = Dog()\n",
    "mydog.setName(\"Rockey\")\n",
    "print(mydog.getName())"
   ]
  },
  {
   "cell_type": "code",
   "execution_count": 21,
   "id": "595b5cd3",
   "metadata": {},
   "outputs": [
    {
     "name": "stdout",
     "output_type": "stream",
     "text": [
      "6\n"
     ]
    }
   ],
   "source": [
    "class Dog():\n",
    "    age = 0\n",
    "    def happyBirthday(self):\n",
    "        self.age += 1\n",
    "        \n",
    "sam = Dog()\n",
    "sam.happyBirthday()\n",
    "\n",
    "print(sam.age)"
   ]
  },
  {
   "cell_type": "code",
   "execution_count": 27,
   "id": "345f34a9",
   "metadata": {},
   "outputs": [
    {
     "name": "stdout",
     "output_type": "stream",
     "text": [
      "10\n",
      "It is Young\n"
     ]
    }
   ],
   "source": [
    "class Dog():\n",
    "    age = 0\n",
    "    \n",
    "    def setAge(self, its_age):\n",
    "        self.age = its_age\n",
    "    def happyBirthday(self):\n",
    "        self.age += 1\n",
    "    def getAge(self):\n",
    "        return self.age\n",
    "        \n",
    "    def showStatus(self):\n",
    "        if self.getAge() > 10:\n",
    "            print(\"It is Old.\")\n",
    "        else:\n",
    "            print(\"It is Young\")\n",
    "sam = Dog()\n",
    "sam.setAge(9)\n",
    "\n",
    "sam.happyBirthday()\n",
    "print(sam.getAge())\n",
    "\n",
    "sam.showStatus()"
   ]
  },
  {
   "cell_type": "code",
   "execution_count": 28,
   "id": "3b2c8bbd",
   "metadata": {},
   "outputs": [
    {
     "name": "stdout",
     "output_type": "stream",
     "text": [
      "roar\n",
      "With four legs\n"
     ]
    }
   ],
   "source": [
    "class Animal():\n",
    "    def makeSound(self):\n",
    "        print(\"roar\")\n",
    "        \n",
    "class Predator(Animal):\n",
    "    species = \"With four legs\"\n",
    "    \n",
    "lion = Predator()\n",
    "lion.makeSound()\n",
    "print(lion.species)"
   ]
  },
  {
   "cell_type": "code",
   "execution_count": 29,
   "id": "601ee78e",
   "metadata": {},
   "outputs": [
    {
     "name": "stdout",
     "output_type": "stream",
     "text": [
      "Musafa\n",
      "With four legs\n"
     ]
    }
   ],
   "source": [
    "class Animal():\n",
    "    def __init__(self, species):\n",
    "        self.species = species\n",
    "        \n",
    "class Predator(Animal):\n",
    "    def __init__(self, species, name):\n",
    "        self.name = name\n",
    "        super().__init__(species)\n",
    "    \n",
    "lion = Predator(\"With four legs\", \"Musafa\")\n",
    "print(lion.name)\n",
    "print(lion.species)"
   ]
  },
  {
   "cell_type": "code",
   "execution_count": null,
   "id": "0cc87636",
   "metadata": {},
   "outputs": [],
   "source": []
  }
 ],
 "metadata": {
  "kernelspec": {
   "display_name": "Python 3 (ipykernel)",
   "language": "python",
   "name": "python3"
  },
  "language_info": {
   "codemirror_mode": {
    "name": "ipython",
    "version": 3
   },
   "file_extension": ".py",
   "mimetype": "text/x-python",
   "name": "python",
   "nbconvert_exporter": "python",
   "pygments_lexer": "ipython3",
   "version": "3.9.13"
  }
 },
 "nbformat": 4,
 "nbformat_minor": 5
}
