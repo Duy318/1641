{
 "cells": [
  {
   "cell_type": "code",
   "execution_count": 29,
   "id": "af829d9e",
   "metadata": {},
   "outputs": [
    {
     "name": "stdout",
     "output_type": "stream",
     "text": [
      "**************************************************\n",
      "\t\tCoding Temple, Inc.\n",
      "\t\t283 Franklin St.\n",
      "\t\tBoston, MA\n",
      "==================================================\n",
      "\t\tProduct Name\t\tProduct Price\n",
      "\t\tBooks\t\t\t$49.95\n",
      "\t\tComputer\t\t$579.99\n",
      "\t\tMonitor\t\t\t$124.89\n",
      "==================================================\n",
      "\t\t\tTotal\t\t$754.83\n",
      "==================================================\n",
      "\n",
      "\tThanks for shopping with us today!\n",
      "\n",
      "**************************************************\n"
     ]
    }
   ],
   "source": [
    "p1_name, p1_price = \"Books\", 49.95\n",
    "p2_name, p2_price = \"Computer\", 579.99\n",
    "p3_name, p3_price = \"Monitor\", 124.89\n",
    "\n",
    "company_name = \"coding temple, inc.\"\n",
    "company_address = \"283 Franklin St.\"\n",
    "company_city = \"Boston, MA\"\n",
    "\n",
    "message = \"Thanks for shopping with us today!\"\n",
    "\n",
    "print(\"*\" * 50)\n",
    "print(\"\\t\\t{}\".format(company_name).title())\n",
    "print(\"\\t\\t{}\".format(company_address))\n",
    "print(\"\\t\\t{}\".format(company_city))\n",
    "\n",
    "print(\"=\" *50)\n",
    "print(\"\\t\\tProduct Name\\t\\tProduct Price\")\n",
    "\n",
    "print(\"\\t\\t{}\\t\\t\\t${}\".format(p1_name.title(), p1_price))\n",
    "print(\"\\t\\t{}\\t\\t${}\".format(p2_name.title(), p2_price))\n",
    "print(\"\\t\\t{}\\t\\t\\t${}\".format(p3_name.title(), p3_price))\n",
    "\n",
    "print('=' *50)\n",
    "\n",
    "total = p1_price + p2_price + p3_price\n",
    "print(\"\\t\\t\\tTotal\\t\\t${}\".format(total))\n",
    "\n",
    "print(\"=\" *50)\n",
    "print(\"\\n\\t{}\\n\".format(message))\n",
    "print(\"*\" *50)"
   ]
  },
  {
   "cell_type": "code",
   "execution_count": null,
   "id": "e1ad9bbf",
   "metadata": {},
   "outputs": [],
   "source": []
  }
 ],
 "metadata": {
  "kernelspec": {
   "display_name": "Python 3 (ipykernel)",
   "language": "python",
   "name": "python3"
  },
  "language_info": {
   "codemirror_mode": {
    "name": "ipython",
    "version": 3
   },
   "file_extension": ".py",
   "mimetype": "text/x-python",
   "name": "python",
   "nbconvert_exporter": "python",
   "pygments_lexer": "ipython3",
   "version": "3.9.13"
  }
 },
 "nbformat": 4,
 "nbformat_minor": 5
}
