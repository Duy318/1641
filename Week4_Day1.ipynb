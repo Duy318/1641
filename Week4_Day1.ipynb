{
 "cells": [
  {
   "cell_type": "code",
   "execution_count": 15,
   "id": "0ffc15ab",
   "metadata": {},
   "outputs": [
    {
     "name": "stdout",
     "output_type": "stream",
     "text": [
      "{}\n",
      "{'name': 'John Smith'}\n",
      "{'name': 'Morty', 'age': 26, 'email': 'duyhhgcd201678'}\n",
      "John Smith\n",
      "Morty\n",
      "26\n",
      "duyhhgcd201678\n",
      "John Smith\n",
      "Age is avaliable.\n",
      "duyhhgcd201678\n",
      "Address is not available\n"
     ]
    }
   ],
   "source": [
    "empty = {}\n",
    "person = {\"name\":\"John Smith\"}\n",
    "customer = {\"name\":\"Morty\",\"age\": 26,\"email\":\"duyhhgcd201678\"}\n",
    "print(empty)\n",
    "print(person)\n",
    "print(customer)\n",
    "\n",
    "print(person[\"name\"])\n",
    "print(customer[\"name\"])\n",
    "print(customer[\"age\"])\n",
    "print(customer[\"email\"])\n",
    "\n",
    "print( person.get(\"name\"))\n",
    "print( person.get(\"age\",\"Age is avaliable.\"))\n",
    "print( customer.get(\"email\"))\n",
    "print( customer.get(\"address\",\"Address is not available\"))"
   ]
  },
  {
   "cell_type": "code",
   "execution_count": 17,
   "id": "24ca59e4",
   "metadata": {},
   "outputs": [
    {
     "name": "stdout",
     "output_type": "stream",
     "text": [
      "baseball\n",
      "Vietnam\n"
     ]
    }
   ],
   "source": [
    "data = {\"sport\": [\"baseball\", \"football\", \"hockey\", \"soccer\"]}\n",
    "print( data[\"sport\"][0])\n",
    "\n",
    "data = {\"sport\": [\"baseball\", \"football\", \"hockey\", \"soccer\"], \"country\":[\"Vietnam\", \"Japan\", \"Thai\"]}\n",
    "print( data[\"country\"][0])"
   ]
  },
  {
   "cell_type": "code",
   "execution_count": 22,
   "id": "5314b68d",
   "metadata": {},
   "outputs": [
    {
     "name": "stdout",
     "output_type": "stream",
     "text": [
      "{'name': 'Kirsten', 'country': 'USA'}\n",
      "Dennis\n",
      "USA\n"
     ]
    }
   ],
   "source": [
    "data = [{\"name\":\"John\"}, {\"name\":\"Dennis\"}, {\"name\":\"Kirsten\",\"country\":\"USA\"}]\n",
    "print( data[2])\n",
    "print( data[1][\"name\"])\n",
    "print( data[2][\"country\"])"
   ]
  },
  {
   "cell_type": "code",
   "execution_count": 24,
   "id": "c442c069",
   "metadata": {},
   "outputs": [
    {
     "name": "stdout",
     "output_type": "stream",
     "text": [
      "{'2018': 108, '2017': 93}\n",
      "108\n"
     ]
    }
   ],
   "source": [
    "data = {\n",
    "    'team' : 'Boston Red Sox',\n",
    "    'wins' : { '2018' : 108, '2017' : 93 }\n",
    "}\n",
    "\n",
    "print( data['wins'] )   \n",
    "\n",
    "print( data['wins']['2018'] )"
   ]
  },
  {
   "cell_type": "code",
   "execution_count": 30,
   "id": "28dbf566",
   "metadata": {},
   "outputs": [
    {
     "name": "stdout",
     "output_type": "stream",
     "text": [
      "{'year': 2018}\n",
      "{'year': 2018, 'color': 'Blue'}\n",
      "Year: 2018\tColor: Blue\n",
      "Year: 2018\tColor: Red\n",
      "{'year': 2018, 'color': 'Red'}\n"
     ]
    }
   ],
   "source": [
    "car = { \"year\": 2018 }\n",
    "print(car)\n",
    "car['color'] = 'Blue'\n",
    "print(car)\n",
    "car[\"type\"] = \"Honda\"\n",
    "print(\"Year: {}\\tColor: {}\".format(car['year'], car['color'], car[\"type\"]))\n",
    "\n",
    "car[\"color\"] = \"Red\"\n",
    "print(\"Year: {}\\tColor: {}\".format(car['year'], car['color'], car[\"type\"]))\n",
    "\n",
    "del car[\"type\"]\n",
    "print(car)"
   ]
  },
  {
   "cell_type": "code",
   "execution_count": 33,
   "id": "0fefe723",
   "metadata": {},
   "outputs": [
    {
     "name": "stdout",
     "output_type": "stream",
     "text": [
      "name\n",
      "age\n",
      "email\n",
      "John\n",
      "26\n",
      "duyhhgcd201678@fpt.edu.vn\n",
      "name>> John\n",
      "age>> 26\n",
      "email>> duyhhgcd201678@fpt.edu.vn\n"
     ]
    }
   ],
   "source": [
    "person = {\"name\":\"John\",\"age\": 26,\"email\":\"duyhhgcd201678@fpt.edu.vn\"}\n",
    "for result in person.keys():\n",
    "    print(result)\n",
    "    \n",
    "for result in person.values():\n",
    "    print(result)\n",
    "    \n",
    "for mykey, myvalue in person.items():\n",
    "    print(\"{}>> {}\".format(mykey, myvalue))"
   ]
  },
  {
   "cell_type": "code",
   "execution_count": 37,
   "id": "672af1d0",
   "metadata": {},
   "outputs": [
    {
     "name": "stdout",
     "output_type": "stream",
     "text": [
      "{'Apple', 'Orange', 'Monitor', 'Computer', 'Bread'}\n",
      "{'Apple', 'Orange', 'Monitor', 'Bread'}\n",
      "{'Apple', 'Orange', 'Monitor', 'Bread'}\n",
      "{'Apple', 'Orange', 'Computer'}\n"
     ]
    }
   ],
   "source": [
    "mydata = set([\"Apple\", \"Computer\", \"Orange\", \"Monitor\"])\n",
    "\n",
    "mydata.add(\"Bread\")\n",
    "print(mydata)\n",
    "\n",
    "mydata.remove(\"Computer\")\n",
    "print(mydata)\n",
    "\n",
    "mydata.add(\"Bread\")\n",
    "print(mydata)\n",
    "\n",
    "mydata = set([\"Apple\", \"Computer\", \"Orange\", \"Apple\"])\n",
    "print(mydata)"
   ]
  },
  {
   "cell_type": "code",
   "execution_count": 39,
   "id": "b72f2e30",
   "metadata": {},
   "outputs": [
    {
     "name": "stdout",
     "output_type": "stream",
     "text": [
      "this is a test\n"
     ]
    }
   ],
   "source": [
    "f = open(\"test.txt\", 'w+')    \n",
    "f.write('this is a test')\n",
    "f.close()\n",
    "f = open('test.txt', 'r')\n",
    "data = f.read()\n",
    "f.close()\n",
    "print(data)"
   ]
  },
  {
   "cell_type": "code",
   "execution_count": 43,
   "id": "55ca9af5",
   "metadata": {},
   "outputs": [],
   "source": [
    "import csv\n",
    "with open(\"421.csv\", mode=\"w\", newline=\"\") as f:\n",
    "    writer = csv.writer(f, delimiter=\",\")\n",
    "    writer.writerow([\"Name\", \"City\"])\n",
    "    writer.writerow([\"Craig Lou\", \"Taiwan\"])"
   ]
  },
  {
   "cell_type": "code",
   "execution_count": 44,
   "id": "c3a1ca8b",
   "metadata": {},
   "outputs": [
    {
     "name": "stdout",
     "output_type": "stream",
     "text": [
      "['Name', 'City']\n",
      "['Craig Lou', 'Taiwan']\n"
     ]
    }
   ],
   "source": [
    "with open(\"421.csv\", mode=\"r\") as f:\n",
    "    reader = csv.reader(f,delimiter=\",\")\n",
    "    for row in reader:\n",
    "        print(row)"
   ]
  },
  {
   "cell_type": "code",
   "execution_count": null,
   "id": "d2fbec65",
   "metadata": {},
   "outputs": [],
   "source": []
  }
 ],
 "metadata": {
  "kernelspec": {
   "display_name": "Python 3 (ipykernel)",
   "language": "python",
   "name": "python3"
  },
  "language_info": {
   "codemirror_mode": {
    "name": "ipython",
    "version": 3
   },
   "file_extension": ".py",
   "mimetype": "text/x-python",
   "name": "python",
   "nbconvert_exporter": "python",
   "pygments_lexer": "ipython3",
   "version": "3.9.13"
  }
 },
 "nbformat": 4,
 "nbformat_minor": 5
}
