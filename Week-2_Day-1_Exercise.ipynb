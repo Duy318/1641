{
 "cells": [
  {
   "cell_type": "code",
   "execution_count": 5,
   "id": "fb23dae2",
   "metadata": {},
   "outputs": [
    {
     "name": "stdout",
     "output_type": "stream",
     "text": [
      "30\n"
     ]
    }
   ],
   "source": [
    "x = 3\n",
    "y = 10\n",
    "result = x * y\n",
    "print(result)"
   ]
  },
  {
   "cell_type": "code",
   "execution_count": 6,
   "id": "16dfdacf",
   "metadata": {},
   "outputs": [
    {
     "name": "stdout",
     "output_type": "stream",
     "text": [
      "3354.0764\n"
     ]
    }
   ],
   "source": [
    "x = 245.54\n",
    "y = 13.66\n",
    "area = x * y\n",
    "print(area)"
   ]
  },
  {
   "cell_type": "code",
   "execution_count": 9,
   "id": "f48644e2",
   "metadata": {},
   "outputs": [
    {
     "name": "stdout",
     "output_type": "stream",
     "text": [
      "23 4.5 False John\n"
     ]
    }
   ],
   "source": [
    "num1 = 23\n",
    "num2 = 4.5\n",
    "switch = False\n",
    "name = \"John\"\n",
    "print(num1, num2, switch, name)"
   ]
  },
  {
   "cell_type": "code",
   "execution_count": 20,
   "id": "060b7bab",
   "metadata": {},
   "outputs": [
    {
     "name": "stdout",
     "output_type": "stream",
     "text": [
      "Duy's favorite sports is basketball.\n",
      "Duy is working on basketball programing!\n"
     ]
    }
   ],
   "source": [
    "my_name = \"Duy\"\n",
    "activity = \"basketball\"\n",
    "print(\"{}'s favorite sports is {}.\".format(my_name, activity))\n",
    "print(\"{} is working on {} programing!\".format(my_name, activity))\n"
   ]
  },
  {
   "cell_type": "code",
   "execution_count": 21,
   "id": "094362b3",
   "metadata": {},
   "outputs": [
    {
     "name": "stdout",
     "output_type": "stream",
     "text": [
      "Uppercase\n"
     ]
    }
   ],
   "source": [
    "name = \"uppercase\"\n",
    "print(name.title())"
   ]
  },
  {
   "cell_type": "code",
   "execution_count": 24,
   "id": "7aaaebff",
   "metadata": {},
   "outputs": [
    {
     "name": "stdout",
     "output_type": "stream",
     "text": [
      "John Smith\n",
      "John Smith\n"
     ]
    }
   ],
   "source": [
    "s = \"$$John Smith\"\n",
    "print( s.lstrip(\"$\"))\n",
    "print( s.strip(\"$\"))"
   ]
  },
  {
   "cell_type": "code",
   "execution_count": null,
   "id": "3eb4e193",
   "metadata": {},
   "outputs": [],
   "source": []
  }
 ],
 "metadata": {
  "kernelspec": {
   "display_name": "Python 3 (ipykernel)",
   "language": "python",
   "name": "python3"
  },
  "language_info": {
   "codemirror_mode": {
    "name": "ipython",
    "version": 3
   },
   "file_extension": ".py",
   "mimetype": "text/x-python",
   "name": "python",
   "nbconvert_exporter": "python",
   "pygments_lexer": "ipython3",
   "version": "3.9.13"
  }
 },
 "nbformat": 4,
 "nbformat_minor": 5
}
