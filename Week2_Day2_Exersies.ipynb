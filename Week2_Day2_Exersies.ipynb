{
 "cells": [
  {
   "cell_type": "code",
   "execution_count": 4,
   "id": "a56116c3",
   "metadata": {},
   "outputs": [
    {
     "name": "stdout",
     "output_type": "stream",
     "text": [
      "True\n"
     ]
    }
   ],
   "source": [
    "string = \"Duykobe\"\n",
    "bool_value = bool(string)\n",
    " \n",
    "print(bool_value)"
   ]
  },
  {
   "cell_type": "code",
   "execution_count": 5,
   "id": "58c85b42",
   "metadata": {},
   "outputs": [
    {
     "name": "stdout",
     "output_type": "stream",
     "text": [
      "Type a number: 1\n",
      "Type another number: 2\n",
      "The sum is:  3\n"
     ]
    }
   ],
   "source": [
    "x = input(\"Type a number: \")\n",
    "y = input(\"Type another number: \")\n",
    "\n",
    "sum = int(x) + int(y)\n",
    "\n",
    "print(\"The sum is: \", sum)"
   ]
  },
  {
   "cell_type": "code",
   "execution_count": 8,
   "id": "a2bae5eb",
   "metadata": {},
   "outputs": [
    {
     "name": "stdout",
     "output_type": "stream",
     "text": [
      "type the year: 2018\n",
      "type the maker: Silverado\n",
      "type the model: Chevrolet\n",
      "type the color: Blue\n",
      "2018 Blue Chevrolet Silverado\n"
     ]
    }
   ],
   "source": [
    "x = input(\"type the year: \")\n",
    "y = input(\"type the maker: \")\n",
    "z = input(\"type the model: \")\n",
    "t = input(\"type the color: \")\n",
    "print(int(x), t, z, y)"
   ]
  },
  {
   "cell_type": "code",
   "execution_count": 9,
   "id": "cb23fe1b",
   "metadata": {},
   "outputs": [
    {
     "name": "stdout",
     "output_type": "stream",
     "text": [
      "Type anything:duyes\n",
      "duyes contains the character es\n"
     ]
    }
   ],
   "source": [
    "x = input(\"Type anything:\")\n",
    "if \"es\" in x:\n",
    "    print(\"{} contains the character es\".format(x))\n",
    "elif \"es\" not in x:\n",
    "    print(\"{} does not contains the character es\".format(x))"
   ]
  },
  {
   "cell_type": "code",
   "execution_count": 14,
   "id": "3e931257",
   "metadata": {},
   "outputs": [
    {
     "name": "stdout",
     "output_type": "stream",
     "text": [
      "Input word: duying\n",
      " duying contains the character ing\n"
     ]
    }
   ],
   "source": [
    "y = input(\"Input word: \")\n",
    "if \"ing\" in y:\n",
    " print(\" {} contains the character ing\".format(y))"
   ]
  },
  {
   "cell_type": "code",
   "execution_count": 16,
   "id": "38a66620",
   "metadata": {},
   "outputs": [
    {
     "name": "stdout",
     "output_type": "stream",
     "text": [
      "TYPE WORD: duy\n",
      "TYPE WORD: duy\n",
      "Both word were same\n"
     ]
    }
   ],
   "source": [
    "x = input(\"Type word: \".upper())\n",
    "y = input(\"Type word: \".upper())\n",
    "if x == y:\n",
    "    print(\"Both word were same\")"
   ]
  },
  {
   "cell_type": "code",
   "execution_count": 19,
   "id": "757035e6",
   "metadata": {},
   "outputs": [
    {
     "name": "stdout",
     "output_type": "stream",
     "text": [
      "Type a number: 6\n",
      "36\n"
     ]
    }
   ],
   "source": [
    "x = int(input(\"Type a number: \"))\n",
    "if x < 10:\n",
    "    print(x*x)"
   ]
  },
  {
   "cell_type": "code",
   "execution_count": 21,
   "id": "46a54ee9",
   "metadata": {},
   "outputs": [
    {
     "name": "stdout",
     "output_type": "stream",
     "text": [
      "Type a number: 33\n",
      "The number is less than 100\n"
     ]
    }
   ],
   "source": [
    "x = int(input(\"Type a number: \"))\n",
    "if x > 100:\n",
    "    print(\"The number is greater than 100\")\n",
    "elif x < 100:\n",
    "    print(\"The number is less than 100\")"
   ]
  },
  {
   "cell_type": "code",
   "execution_count": 25,
   "id": "68d63864",
   "metadata": {},
   "outputs": [
    {
     "name": "stdout",
     "output_type": "stream",
     "text": [
      "Hello John\n"
     ]
    }
   ],
   "source": [
    "name = \"John\"\n",
    "if name == \"Jack\":\n",
    "    print(\"Hello Jack\")\n",
    "elif name == \"John\":\n",
    "    print(\"Hello John\")"
   ]
  },
  {
   "cell_type": "code",
   "execution_count": 31,
   "id": "e3264d14",
   "metadata": {},
   "outputs": [
    {
     "name": "stdout",
     "output_type": "stream",
     "text": [
      "Type a time1567\n",
      "Good Afternoon\n"
     ]
    }
   ],
   "source": [
    "x = int(input(\"Type a time\"))\n",
    "if x >= 1700:\n",
    "    print(\"Good Evening\")\n",
    "elif x > 1200:\n",
    "    print(\"Good Afternoon\")\n",
    "elif x < 1200:\n",
    "    print(\"Good Morning\")\n",
    "\n"
   ]
  },
  {
   "cell_type": "code",
   "execution_count": null,
   "id": "a3a10b6a",
   "metadata": {},
   "outputs": [],
   "source": []
  }
 ],
 "metadata": {
  "kernelspec": {
   "display_name": "Python 3 (ipykernel)",
   "language": "python",
   "name": "python3"
  },
  "language_info": {
   "codemirror_mode": {
    "name": "ipython",
    "version": 3
   },
   "file_extension": ".py",
   "mimetype": "text/x-python",
   "name": "python",
   "nbconvert_exporter": "python",
   "pygments_lexer": "ipython3",
   "version": "3.9.13"
  }
 },
 "nbformat": 4,
 "nbformat_minor": 5
}
