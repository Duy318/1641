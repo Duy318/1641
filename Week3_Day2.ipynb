{
 "cells": [
  {
   "cell_type": "code",
   "execution_count": 1,
   "id": "d215bd24",
   "metadata": {},
   "outputs": [
    {
     "name": "stdout",
     "output_type": "stream",
     "text": [
      "Name: John Smith\n",
      "Age: 45\n",
      "Name: John Smith\n",
      "Age: 45\n"
     ]
    }
   ],
   "source": [
    "def printInfo( ):\n",
    "    print(\"Name: John Smith\")\n",
    "    print(\"Age: 45\")\n",
    "\n",
    "printInfo()\n",
    "printInfo()"
   ]
  },
  {
   "cell_type": "code",
   "execution_count": 2,
   "id": "57083177",
   "metadata": {},
   "outputs": [
    {
     "name": "stdout",
     "output_type": "stream",
     "text": [
      "15\n"
     ]
    }
   ],
   "source": [
    "def calc( ):\n",
    "    x, y = 5, 10\n",
    "    print(x+y)\n",
    "    \n",
    "calc()"
   ]
  },
  {
   "cell_type": "code",
   "execution_count": 3,
   "id": "203f6ab3",
   "metadata": {},
   "outputs": [
    {
     "name": "stdout",
     "output_type": "stream",
     "text": [
      "Your name is: John Smith\n",
      "Your name is: Amanda\n"
     ]
    }
   ],
   "source": [
    "def printName(full_name):\n",
    "    print(\"Your name is: {}\".format(full_name))\n",
    "    \n",
    "printName(\"John Smith\")\n",
    "printName(\"Amanda\")"
   ]
  },
  {
   "cell_type": "code",
   "execution_count": 4,
   "id": "1dd5763f",
   "metadata": {},
   "outputs": [
    {
     "name": "stdout",
     "output_type": "stream",
     "text": [
      "5 + 8 = 13\n",
      "3.5 + 5.5 = 9.0\n"
     ]
    }
   ],
   "source": [
    "def addNums(num1, num2):\n",
    "    result = num1 + num2\n",
    "    print(\"{} + {} = {}\".format(num1, num2, result))\n",
    "    \n",
    "addNums(5, 8)\n",
    "addNums(3.5, 5.5)"
   ]
  },
  {
   "cell_type": "code",
   "execution_count": 5,
   "id": "6e9b5170",
   "metadata": {},
   "outputs": [
    {
     "name": "stdout",
     "output_type": "stream",
     "text": [
      "4\n",
      "16\n",
      "25\n",
      "100\n",
      "1\n",
      "9\n",
      "36\n"
     ]
    }
   ],
   "source": [
    "group1 =[2, 4, 5, 10]\n",
    "group2 =[1,3,6]\n",
    "\n",
    "def squares(nums):\n",
    "    for value in nums:\n",
    "        print(value**2)\n",
    "        \n",
    "squares(group1)\n",
    "squares(group2)"
   ]
  },
  {
   "cell_type": "code",
   "execution_count": 8,
   "id": "88707977",
   "metadata": {},
   "outputs": [
    {
     "name": "stdout",
     "output_type": "stream",
     "text": [
      "Area: 12.56\n"
     ]
    }
   ],
   "source": [
    "def calcArea(r, pi=3.14):\n",
    "    area =  pi * (r**2)\n",
    "    print(\"Area: {}\".format(area))\n",
    "    \n",
    "calcArea(2)"
   ]
  },
  {
   "cell_type": "code",
   "execution_count": 10,
   "id": "a7914f97",
   "metadata": {},
   "outputs": [
    {
     "name": "stdout",
     "output_type": "stream",
     "text": [
      "Xin Chao! Phyo\n"
     ]
    }
   ],
   "source": [
    "def greeting(name,init =\"Xin Chao!\"):\n",
    "    print(\"{} {}\".format(init, name))\n",
    "    \n",
    "greeting(\"Phyo\")"
   ]
  },
  {
   "cell_type": "code",
   "execution_count": 11,
   "id": "350bfe67",
   "metadata": {},
   "outputs": [
    {
     "name": "stdout",
     "output_type": "stream",
     "text": [
      "John Smith\n",
      "John Paul Smith\n"
     ]
    }
   ],
   "source": [
    "def printName(first, last, middle=\"\"):\n",
    "    if middle:\n",
    "        print(\"{} {} {}\".format(first, middle, last))\n",
    "    else:\n",
    "        print(\"{} {}\".format(first, last))\n",
    "        \n",
    "printName(\"John\", \"Smith\")\n",
    "printName(\"John\", \"Smith\", \"Paul\")"
   ]
  },
  {
   "cell_type": "code",
   "execution_count": 12,
   "id": "17631ecb",
   "metadata": {},
   "outputs": [
    {
     "name": "stdout",
     "output_type": "stream",
     "text": [
      "2.5\n",
      "10\n",
      "89\n"
     ]
    }
   ],
   "source": [
    "def addNums(num1, num2, num3):\n",
    "    print(num2)\n",
    "    print(num1)\n",
    "    print(num3)\n",
    "    \n",
    "addNums(num3 = 89, num1 = 10, num2 = 2.5)"
   ]
  },
  {
   "cell_type": "code",
   "execution_count": 15,
   "id": "deb2628a",
   "metadata": {},
   "outputs": [
    {
     "name": "stdout",
     "output_type": "stream",
     "text": [
      "[5, 10]\n"
     ]
    }
   ],
   "source": [
    "def returnMultiple():\n",
    "    a = 5\n",
    "    b = 10\n",
    "    return[a, b]\n",
    "\n",
    "print(returnMultiple())"
   ]
  },
  {
   "cell_type": "code",
   "execution_count": 16,
   "id": "56ef6e11",
   "metadata": {},
   "outputs": [
    {
     "name": "stdout",
     "output_type": "stream",
     "text": [
      "10.0\n",
      "20\n"
     ]
    }
   ],
   "source": [
    "def addNums(num1, num2):\n",
    "    return num1+num2\n",
    "result = addNums(5.5, 4.5)\n",
    "\n",
    "print(result)\n",
    "print( addNums(10,10))"
   ]
  },
  {
   "cell_type": "code",
   "execution_count": 17,
   "id": "c2009afa",
   "metadata": {},
   "outputs": [
    {
     "name": "stdout",
     "output_type": "stream",
     "text": [
      "False\n",
      "True\n"
     ]
    }
   ],
   "source": [
    "def searchList(aList, el):\n",
    "    return True if el in aList else False\n",
    "\n",
    "result = searchList([\"one\", \"two\", \"three\", \"hello\", \"john\"], \"greenwich\")\n",
    "\n",
    "print(result)\n",
    "\n",
    "result = searchList([\"one\", \"two\", \"three\", \"hello\", \"john\"], \"john\")\n",
    "\n",
    "print(result)"
   ]
  },
  {
   "cell_type": "code",
   "execution_count": 18,
   "id": "75e71f03",
   "metadata": {},
   "outputs": [
    {
     "name": "stdout",
     "output_type": "stream",
     "text": [
      "Before Altering: ['Germany', 'Spain', 'Japan', 'Korea']\n",
      "After Altering: ['Brazil', 'Spain', 'Japan', 'Korea']\n"
     ]
    }
   ],
   "source": [
    "teams = [\"Germany\", \"Spain\", \"Japan\", \"Korea\"]\n",
    "\n",
    "def change(aList):\n",
    "    aList[0] = \"Brazil\"\n",
    "    \n",
    "print(\"Before Altering: {}\".format(teams))\n",
    "change(teams)\n",
    "print(\"After Altering: {}\".format(teams))"
   ]
  },
  {
   "cell_type": "code",
   "execution_count": null,
   "id": "5289e6ec",
   "metadata": {},
   "outputs": [],
   "source": []
  }
 ],
 "metadata": {
  "kernelspec": {
   "display_name": "Python 3 (ipykernel)",
   "language": "python",
   "name": "python3"
  },
  "language_info": {
   "codemirror_mode": {
    "name": "ipython",
    "version": 3
   },
   "file_extension": ".py",
   "mimetype": "text/x-python",
   "name": "python",
   "nbconvert_exporter": "python",
   "pygments_lexer": "ipython3",
   "version": "3.9.13"
  }
 },
 "nbformat": 4,
 "nbformat_minor": 5
}
