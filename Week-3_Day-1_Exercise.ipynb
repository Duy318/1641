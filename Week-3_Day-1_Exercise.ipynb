{
 "cells": [
  {
   "cell_type": "code",
   "execution_count": 6,
   "id": "f07d77ce",
   "metadata": {},
   "outputs": [
    {
     "name": "stdout",
     "output_type": "stream",
     "text": [
      "I like to play Basketball.\n",
      "I like to play Football.\n",
      "I like to play Badminton.\n"
     ]
    }
   ],
   "source": [
    "sports = [\"Basketball\", \"Football\", \"Badminton\"]\n",
    "print(\"I like to play {}.\".format(sports[0]))\n",
    "print(\"I like to play {}.\".format(sports[1]))\n",
    "print(\"I like to play {}.\".format(sports[2]))"
   ]
  },
  {
   "cell_type": "code",
   "execution_count": 10,
   "id": "0e26f5fb",
   "metadata": {},
   "outputs": [
    {
     "name": "stdout",
     "output_type": "stream",
     "text": [
      "J\n",
      "A\n",
      "S\n",
      "K\n"
     ]
    }
   ],
   "source": [
    "names = [\"John\", \"Abraham\", \"Sam\", \"Kelly\"]\n",
    "print(names[0][0])\n",
    "print(names[1][0])\n",
    "print(names[2][0])\n",
    "print(names[3][0])"
   ]
  },
  {
   "cell_type": "code",
   "execution_count": 39,
   "id": "355819ee",
   "metadata": {},
   "outputs": [
    {
     "name": "stdout",
     "output_type": "stream",
     "text": [
      "Value: 3\n",
      "Value: 6\n",
      "Value: 9\n",
      "Value: 12\n",
      "Value: 15\n",
      "Value: 18\n",
      "Value: 21\n",
      "Value: 24\n",
      "Value: 27\n",
      "Value: 30\n",
      "Value: 33\n",
      "Value: 36\n",
      "Value: 39\n",
      "Value: 42\n",
      "Value: 45\n",
      "Value: 48\n",
      "Value: 51\n",
      "Value: 54\n",
      "Value: 57\n",
      "Value: 60\n",
      "Value: 63\n",
      "Value: 66\n",
      "Value: 69\n",
      "Value: 72\n",
      "Value: 75\n",
      "Value: 78\n",
      "Value: 81\n",
      "Value: 84\n",
      "Value: 87\n",
      "Value: 90\n",
      "Value: 93\n",
      "Value: 96\n",
      "Value: 99\n"
     ]
    }
   ],
   "source": [
    "for num in range(3,100, 3):\n",
    "    print('Value: {}'.format(num))"
   ]
  },
  {
   "cell_type": "code",
   "execution_count": 17,
   "id": "4fe98aec",
   "metadata": {},
   "outputs": [
    {
     "name": "stdout",
     "output_type": "stream",
     "text": [
      "e\n",
      "o\n"
     ]
    }
   ],
   "source": [
    "a = (\"Hello\")\n",
    "\n",
    "for letter in a:\n",
    "    if letter in ['a', 'e', 'i', 'o', 'u']:\n",
    "        print(letter)"
   ]
  },
  {
   "cell_type": "code",
   "execution_count": 18,
   "id": "0a096ed3",
   "metadata": {},
   "outputs": [
    {
     "name": "stdout",
     "output_type": "stream",
     "text": [
      "Enter something: ghur\n",
      "Enter something: ghsrjfjs\n",
      "Enter something: sheflse\n",
      "Enter something: quit\n"
     ]
    }
   ],
   "source": [
    "while input('Enter something: ').lower() != 'quit':\n",
    "    pass"
   ]
  },
  {
   "cell_type": "code",
   "execution_count": 19,
   "id": "a901911a",
   "metadata": {},
   "outputs": [
    {
     "name": "stdout",
     "output_type": "stream",
     "text": [
      "0\n",
      "1\n",
      "2\n"
     ]
    }
   ],
   "source": [
    "game_over = False\n",
    "\n",
    "while game_over == False:\n",
    "    for i in range(5):\n",
    "        if i == 3:\n",
    "            game_over = True\n",
    "            break\n",
    "        else:\n",
    "            print(i)"
   ]
  },
  {
   "cell_type": "code",
   "execution_count": 32,
   "id": "b386518a",
   "metadata": {},
   "outputs": [
    {
     "name": "stdout",
     "output_type": "stream",
     "text": [
      "['Amanda', 'Bob', 'Kenny']\n"
     ]
    }
   ],
   "source": [
    "names = ['Bob', 'Kenny', 'Amanda', 'Bob', 'Kenny']\n",
    "for name in names:\n",
    "    while names.count(name) > 1:\n",
    "        names.remove(name)\n",
    "        \n",
    "print(names)"
   ]
  },
  {
   "cell_type": "code",
   "execution_count": 33,
   "id": "4f166765",
   "metadata": {},
   "outputs": [
    {
     "name": "stdout",
     "output_type": "stream",
     "text": [
      "Enter a word: asd\n",
      "Enter a word: gfdd\n",
      "Enter a word: wer\n",
      "Enter a word: quit\n",
      "asd\n",
      "gfdd\n",
      "wer\n"
     ]
    }
   ],
   "source": [
    "done = False\n",
    "words = []\n",
    "\n",
    "while done == False:\n",
    "    ans = input('Enter a word: ')\n",
    "    \n",
    "    if ans.lower() == 'quit':\n",
    "        done = True\n",
    "    else:\n",
    "        words.append(ans)\n",
    "        \n",
    "for word in words:\n",
    "    print(word)"
   ]
  },
  {
   "cell_type": "code",
   "execution_count": 34,
   "id": "083bcbf5",
   "metadata": {},
   "outputs": [
    {
     "name": "stdout",
     "output_type": "stream",
     "text": [
      "     \n",
      "     x\n",
      "    x x\n",
      "   x x x\n",
      "  x x x x\n"
     ]
    }
   ],
   "source": [
    "row = 5\n",
    "\n",
    "for i in range(row):\n",
    "    print(' ' * (row - i) + ' x' * i)"
   ]
  },
  {
   "cell_type": "code",
   "execution_count": 35,
   "id": "c1ab4452",
   "metadata": {},
   "outputs": [
    {
     "name": "stdout",
     "output_type": "stream",
     "text": [
      "John\n",
      "Amanda\n"
     ]
    }
   ],
   "source": [
    "names = [ \"John\", \" \", \"Amanda\", 5]\n",
    "\n",
    "for name in names:\n",
    "    if type(name) == str:\n",
    "        if name.strip() != '':\n",
    "            print(name)"
   ]
  },
  {
   "cell_type": "code",
   "execution_count": 36,
   "id": "04d1c181",
   "metadata": {},
   "outputs": [
    {
     "name": "stdout",
     "output_type": "stream",
     "text": [
      "[89.6, 53.6, 111.2, 84.2]\n"
     ]
    }
   ],
   "source": [
    "temps = [32, 12, 44, 29]\n",
    "\n",
    "for i in range(len(temps)):\n",
    "    temps[i] = (9/5) * temps[i] + 32\n",
    "    \n",
    "print(temps)"
   ]
  },
  {
   "cell_type": "code",
   "execution_count": null,
   "id": "ca5daaf9",
   "metadata": {},
   "outputs": [],
   "source": []
  }
 ],
 "metadata": {
  "kernelspec": {
   "display_name": "Python 3 (ipykernel)",
   "language": "python",
   "name": "python3"
  },
  "language_info": {
   "codemirror_mode": {
    "name": "ipython",
    "version": 3
   },
   "file_extension": ".py",
   "mimetype": "text/x-python",
   "name": "python",
   "nbconvert_exporter": "python",
   "pygments_lexer": "ipython3",
   "version": "3.9.13"
  }
 },
 "nbformat": 4,
 "nbformat_minor": 5
}
