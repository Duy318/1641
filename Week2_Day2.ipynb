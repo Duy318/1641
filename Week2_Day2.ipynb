{
 "cells": [
  {
   "cell_type": "code",
   "execution_count": 2,
   "id": "f97e2234",
   "metadata": {},
   "outputs": [
    {
     "name": "stdout",
     "output_type": "stream",
     "text": [
      "What is your name?Duy\n",
      "Hello Duy!\n"
     ]
    }
   ],
   "source": [
    "ans = input(\"What is your name?\")\n",
    "print(\"Hello {}!\".format(ans))"
   ]
  },
  {
   "cell_type": "code",
   "execution_count": 3,
   "id": "d18ffb70",
   "metadata": {},
   "outputs": [
    {
     "name": "stdout",
     "output_type": "stream",
     "text": [
      "<class 'int'>\n",
      "<class 'str'>\n",
      "<class 'str'>\n"
     ]
    }
   ],
   "source": [
    "num = 5\n",
    "mystr = \"Greenwich\"\n",
    "xstr = \"10\"\n",
    "print(type(num))\n",
    "print(type(mystr))\n",
    "print(type(xstr))"
   ]
  },
  {
   "cell_type": "code",
   "execution_count": 4,
   "id": "9e0b5894",
   "metadata": {},
   "outputs": [
    {
     "name": "stdout",
     "output_type": "stream",
     "text": [
      "<class 'int'>\n"
     ]
    }
   ],
   "source": [
    "num = \"9\"\n",
    "num = int(num)\n",
    "print(type(num))"
   ]
  },
  {
   "cell_type": "code",
   "execution_count": 20,
   "id": "dce43b44",
   "metadata": {},
   "outputs": [
    {
     "ename": "ValueError",
     "evalue": "invalid literal for int() with base 10: 'True'",
     "output_type": "error",
     "traceback": [
      "\u001b[1;31m---------------------------------------------------------------------------\u001b[0m",
      "\u001b[1;31mValueError\u001b[0m                                Traceback (most recent call last)",
      "\u001b[1;32m~\\AppData\\Local\\Temp\\ipykernel_18484\\1773501577.py\u001b[0m in \u001b[0;36m<module>\u001b[1;34m\u001b[0m\n\u001b[0;32m      5\u001b[0m \u001b[0mnum5\u001b[0m \u001b[1;33m=\u001b[0m \u001b[1;32mTrue\u001b[0m\u001b[1;33m\u001b[0m\u001b[1;33m\u001b[0m\u001b[0m\n\u001b[0;32m      6\u001b[0m \u001b[1;33m\u001b[0m\u001b[0m\n\u001b[1;32m----> 7\u001b[1;33m \u001b[0mprint\u001b[0m\u001b[1;33m(\u001b[0m\u001b[0mstr\u001b[0m\u001b[1;33m(\u001b[0m\u001b[0mnum1\u001b[0m\u001b[1;33m)\u001b[0m\u001b[1;33m,\u001b[0m \u001b[0mfloat\u001b[0m\u001b[1;33m(\u001b[0m\u001b[0mnum2\u001b[0m\u001b[1;33m)\u001b[0m\u001b[1;33m,\u001b[0m \u001b[0mint\u001b[0m\u001b[1;33m(\u001b[0m\u001b[0mnum3\u001b[0m\u001b[1;33m)\u001b[0m\u001b[1;33m,\u001b[0m \u001b[0mint\u001b[0m\u001b[1;33m(\u001b[0m\u001b[0mnum4\u001b[0m\u001b[1;33m)\u001b[0m\u001b[1;33m,\u001b[0m \u001b[0mbool\u001b[0m\u001b[1;33m(\u001b[0m\u001b[0mnum5\u001b[0m\u001b[1;33m)\u001b[0m\u001b[1;33m)\u001b[0m\u001b[1;33m\u001b[0m\u001b[1;33m\u001b[0m\u001b[0m\n\u001b[0m",
      "\u001b[1;31mValueError\u001b[0m: invalid literal for int() with base 10: 'True'"
     ]
    }
   ],
   "source": [
    "num1 = 5\n",
    "num2 = 5.6\n",
    "num3 = \"9\"\n",
    "num4 = \"True\"\n",
    "num5 = True\n",
    "\n",
    "print(str(num1), float(num2), int(num3), int(num4), bool(num5))"
   ]
  },
  {
   "cell_type": "code",
   "execution_count": 17,
   "id": "14a9f95b",
   "metadata": {},
   "outputs": [
    {
     "name": "stdout",
     "output_type": "stream",
     "text": [
      "Type a number to add:11\n",
      "<class 'str'>\n",
      "100 + 11 =111\n"
     ]
    }
   ],
   "source": [
    "ans = input(\"Type a number to add:\")\n",
    "print(type(ans))\n",
    "\n",
    "result = 100 + int(ans)\n",
    "print(\"100 + {} ={}\".format(ans, result))"
   ]
  },
  {
   "cell_type": "code",
   "execution_count": 23,
   "id": "7af3810e",
   "metadata": {},
   "outputs": [
    {
     "name": "stdout",
     "output_type": "stream",
     "text": [
      "Type a number to add:11\n",
      "100 + 11.0 = 111.0\n"
     ]
    }
   ],
   "source": [
    "try:\n",
    "    ans = float(input(\"Type a number to add:\"))\n",
    "    print(\"100 + {} = {}\".format(ans, 100+ans))\n",
    "except:\n",
    "    print(\"You did not put in a valid number!\")"
   ]
  },
  {
   "cell_type": "code",
   "execution_count": 24,
   "id": "168d595b",
   "metadata": {},
   "outputs": [
    {
     "name": "stdout",
     "output_type": "stream",
     "text": [
      "x is less than y\n"
     ]
    }
   ],
   "source": [
    "x, y = 5, 10\n",
    "if x<y:\n",
    "    print(\"x is less than y\")"
   ]
  },
  {
   "cell_type": "code",
   "execution_count": 26,
   "id": "703b953c",
   "metadata": {},
   "outputs": [
    {
     "name": "stdout",
     "output_type": "stream",
     "text": [
      "What is 5 + 5?10\n",
      "You got it right\n"
     ]
    }
   ],
   "source": [
    "ans = int(input(\"What is 5 + 5?\"))\n",
    "if ans == 10:\n",
    "    print(\"You got it right\")"
   ]
  },
  {
   "cell_type": "code",
   "execution_count": 27,
   "id": "7dbe86df",
   "metadata": {},
   "outputs": [
    {
     "name": "stdout",
     "output_type": "stream",
     "text": [
      "Both statement were true\n"
     ]
    }
   ],
   "source": [
    "x, y, z = 5, 10, 5\n",
    "if x < y and x == z:\n",
    "    print(\"Both statement were true\")"
   ]
  },
  {
   "cell_type": "code",
   "execution_count": 32,
   "id": "37710232",
   "metadata": {},
   "outputs": [],
   "source": [
    "x, y, z = 5, 10, 5\n",
    "if x < y and x != z:\n",
    "    print(\"One or both statement were true\")"
   ]
  },
  {
   "cell_type": "code",
   "execution_count": 28,
   "id": "bf4270d5",
   "metadata": {},
   "outputs": [
    {
     "name": "stdout",
     "output_type": "stream",
     "text": [
      "Flag is False\n"
     ]
    }
   ],
   "source": [
    "flag = False\n",
    "if not flag:\n",
    "    print(\"Flag is False\")"
   ]
  },
  {
   "cell_type": "code",
   "execution_count": 33,
   "id": "f1f49639",
   "metadata": {},
   "outputs": [
    {
     "name": "stdout",
     "output_type": "stream",
     "text": [
      "Baseball contains the character b\n"
     ]
    }
   ],
   "source": [
    "word = \"Baseball\"\n",
    "if\"b\" in word:\n",
    "    print(\"{} contains the character b\".format(word))"
   ]
  },
  {
   "cell_type": "code",
   "execution_count": 34,
   "id": "ef6f1f18",
   "metadata": {},
   "outputs": [
    {
     "name": "stdout",
     "output_type": "stream",
     "text": [
      "Baseball does not contains the character x\n"
     ]
    }
   ],
   "source": [
    "word = \"Baseball\"\n",
    "if\"x\" not in word:\n",
    "    print(\"{} does not contains the character x\".format(word))"
   ]
  },
  {
   "cell_type": "code",
   "execution_count": 35,
   "id": "d7968abd",
   "metadata": {},
   "outputs": [
    {
     "name": "stdout",
     "output_type": "stream",
     "text": [
      "x is less\n"
     ]
    }
   ],
   "source": [
    "x, y = 5, 10\n",
    "if x > y:\n",
    "    print(\"x is greater\")\n",
    "elif x < y:\n",
    "    print(\"x is less\")"
   ]
  },
  {
   "cell_type": "code",
   "execution_count": 37,
   "id": "912c0708",
   "metadata": {},
   "outputs": [
    {
     "name": "stdout",
     "output_type": "stream",
     "text": [
      "equal\n"
     ]
    }
   ],
   "source": [
    "x, y = 5, 10\n",
    "if x > y:\n",
    "    print(\"x is greater\")\n",
    "elif (x + 10) < y:\n",
    "    print(\"x is less\")\n",
    "elif (x+5) == y:\n",
    "    print(\"equal\")"
   ]
  },
  {
   "cell_type": "code",
   "execution_count": 38,
   "id": "9a4ab123",
   "metadata": {},
   "outputs": [
    {
     "name": "stdout",
     "output_type": "stream",
     "text": [
      "x is equal to z\n"
     ]
    }
   ],
   "source": [
    "x, y, z = 5, 10, 5\n",
    "if x > y:\n",
    "    print(\"greater\")\n",
    "elif x <= y:\n",
    "    if x == z:\n",
    "        print(\"x is equal to z\")\n",
    "    elif x != z:\n",
    "        print(\"x is not equal to z\")"
   ]
  },
  {
   "cell_type": "code",
   "execution_count": 43,
   "id": "339d9895",
   "metadata": {},
   "outputs": [
    {
     "name": "stdout",
     "output_type": "stream",
     "text": [
      "Score100\n",
      "A\n"
     ]
    }
   ],
   "source": [
    "ans = int(input(\"Score\"))\n",
    "if ans < 60:\n",
    "    print(\"F\")\n",
    "elif ans > 89:\n",
    "    print(\"A\")\n",
    "elif ans > 84:\n",
    "    print(\"B+\")\n",
    "elif ans > 79:\n",
    "    print(\"B\")\n",
    "elif ans > 74:\n",
    "    print(\"C+\")\n",
    "elif ans > 69:\n",
    "    print(\"C\")\n",
    "elif ans > 64:\n",
    "    print(\"D+\")\n",
    "elif ans > 59:\n",
    "    print(\"D\")\n"
   ]
  },
  {
   "cell_type": "code",
   "execution_count": 44,
   "id": "b3f0b29d",
   "metadata": {},
   "outputs": [
    {
     "name": "stdout",
     "output_type": "stream",
     "text": [
      "Hello John!\n"
     ]
    }
   ],
   "source": [
    "name = \"John\"\n",
    "if name == \"Jacob\":\n",
    "    print(\"Hello Jacob!\")\n",
    "else:\n",
    "    print(\"Hello {}!\".format(name))"
   ]
  },
  {
   "cell_type": "code",
   "execution_count": null,
   "id": "16f07732",
   "metadata": {},
   "outputs": [],
   "source": []
  }
 ],
 "metadata": {
  "kernelspec": {
   "display_name": "Python 3 (ipykernel)",
   "language": "python",
   "name": "python3"
  },
  "language_info": {
   "codemirror_mode": {
    "name": "ipython",
    "version": 3
   },
   "file_extension": ".py",
   "mimetype": "text/x-python",
   "name": "python",
   "nbconvert_exporter": "python",
   "pygments_lexer": "ipython3",
   "version": "3.9.13"
  }
 },
 "nbformat": 4,
 "nbformat_minor": 5
}
