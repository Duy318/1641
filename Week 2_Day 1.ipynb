{
 "cells": [
  {
   "cell_type": "code",
   "execution_count": 1,
   "id": "ad8e5914",
   "metadata": {},
   "outputs": [
    {
     "name": "stdout",
     "output_type": "stream",
     "text": [
      "Hello\n"
     ]
    }
   ],
   "source": [
    "#Comments & Basic Data Types\n",
    "\n",
    "print(\"Hello\") # this is also a comment"
   ]
  },
  {
   "cell_type": "code",
   "execution_count": 2,
   "id": "74d349be",
   "metadata": {},
   "outputs": [
    {
     "name": "stdout",
     "output_type": "stream",
     "text": [
      "2\n",
      "10\n"
     ]
    }
   ],
   "source": [
    "#the following are all intergers\n",
    "print(2)\n",
    "print(10)"
   ]
  },
  {
   "cell_type": "code",
   "execution_count": 3,
   "id": "c5ce83e3",
   "metadata": {},
   "outputs": [
    {
     "name": "stdout",
     "output_type": "stream",
     "text": [
      "10.953\n",
      "8.0\n"
     ]
    }
   ],
   "source": [
    "#the following are all floats\n",
    "print(10.953)\n",
    "print(8.0) #even this number is a float"
   ]
  },
  {
   "cell_type": "code",
   "execution_count": 4,
   "id": "0aca13d3",
   "metadata": {},
   "outputs": [
    {
     "name": "stdout",
     "output_type": "stream",
     "text": [
      "True\n",
      "False\n"
     ]
    }
   ],
   "source": [
    "#the following are booleans\n",
    "print(True)\n",
    "print(False)"
   ]
  },
  {
   "cell_type": "code",
   "execution_count": 5,
   "id": "463ea546",
   "metadata": {},
   "outputs": [
    {
     "name": "stdout",
     "output_type": "stream",
     "text": [
      " \n",
      "There's a snake in my boot!\n",
      "True\n"
     ]
    }
   ],
   "source": [
    "#the following are strings\n",
    "print(\" \")\n",
    "print(\"There's a snake in my boot!\")\n",
    "print('True')\n"
   ]
  },
  {
   "cell_type": "code",
   "execution_count": 10,
   "id": "d281eb1a",
   "metadata": {},
   "outputs": [
    {
     "name": "stdout",
     "output_type": "stream",
     "text": [
      "Hai Duy Hoang\n"
     ]
    },
    {
     "data": {
      "text/plain": [
       "type"
      ]
     },
     "execution_count": 10,
     "metadata": {},
     "output_type": "execute_result"
    }
   ],
   "source": [
    "#Output: Print out your name\n",
    "print(\"Hai Duy Hoang\")\n",
    "type(int)\n"
   ]
  },
  {
   "cell_type": "code",
   "execution_count": 11,
   "id": "42359052",
   "metadata": {},
   "outputs": [
    {
     "name": "stdout",
     "output_type": "stream",
     "text": [
      "5 8.4\n"
     ]
    }
   ],
   "source": [
    "num1 = 5 #storing an integer a variable\n",
    "num2 = 8.4 #storing a float into a variable\n",
    "print(num1, num2) #you can print multiple items using commas"
   ]
  },
  {
   "cell_type": "code",
   "execution_count": 12,
   "id": "1ad2bf95",
   "metadata": {},
   "outputs": [
    {
     "name": "stdout",
     "output_type": "stream",
     "text": [
      "True\n"
     ]
    }
   ],
   "source": [
    "#storing a boolean into a variable\n",
    "switch = True\n",
    "print(switch)"
   ]
  },
  {
   "cell_type": "code",
   "execution_count": 13,
   "id": "55b3cc0a",
   "metadata": {},
   "outputs": [
    {
     "name": "stdout",
     "output_type": "stream",
     "text": [
      "John Smith 9\n"
     ]
    }
   ],
   "source": [
    "#storing strings into a variable\n",
    "name = 'John Smith'\n",
    "fav_number = '9'\n",
    "print(name, fav_number) #will print 9 next to the name"
   ]
  },
  {
   "cell_type": "code",
   "execution_count": 14,
   "id": "1bc21245",
   "metadata": {},
   "outputs": [
    {
     "name": "stdout",
     "output_type": "stream",
     "text": [
      "13.4\n"
     ]
    }
   ],
   "source": [
    "#using 2 variables to create another variable\n",
    "result = num1 + num2\n",
    "print(result)"
   ]
  },
  {
   "cell_type": "code",
   "execution_count": 15,
   "id": "f60f5bb8",
   "metadata": {},
   "outputs": [
    {
     "name": "stdout",
     "output_type": "stream",
     "text": [
      "14.4\n",
      "72.0\n"
     ]
    }
   ],
   "source": [
    "#adding, deleting, mutiplying, dividing from a variable\n",
    "result += 1 #same as saying result = result + 1\n",
    "print(result)\n",
    "result *= num1 #same as saying result = result * num1\n",
    "print(result)"
   ]
  },
  {
   "cell_type": "code",
   "execution_count": 16,
   "id": "4b4a5bd6",
   "metadata": {},
   "outputs": [
    {
     "name": "stdout",
     "output_type": "stream",
     "text": [
      "John\n",
      "Sam\n"
     ]
    }
   ],
   "source": [
    "#defining a variable and overwriting it's value\n",
    "name = 'John'\n",
    "print(name)\n",
    "name = 'Sam'\n",
    "print(name)"
   ]
  },
  {
   "cell_type": "code",
   "execution_count": 17,
   "id": "495d4b98",
   "metadata": {},
   "outputs": [
    {
     "name": "stdout",
     "output_type": "stream",
     "text": [
      "John Smith\n"
     ]
    }
   ],
   "source": [
    "#using the addition operator without variables\n",
    "name = \"John\" + \" \" + \"Smith\"\n",
    "print(name)"
   ]
  },
  {
   "cell_type": "code",
   "execution_count": 19,
   "id": "c930979d",
   "metadata": {},
   "outputs": [
    {
     "name": "stdout",
     "output_type": "stream",
     "text": [
      "John Smith\n"
     ]
    }
   ],
   "source": [
    "first_name = \"John\"\n",
    "last_name = \"Smith\"\n",
    "full_name = first_name + \" \" + last_name\n",
    "print(full_name)"
   ]
  },
  {
   "cell_type": "code",
   "execution_count": 20,
   "id": "2e26bf30",
   "metadata": {},
   "outputs": [
    {
     "name": "stdout",
     "output_type": "stream",
     "text": [
      "Hello John\n",
      "Hello John, you are 28 year old!\n"
     ]
    }
   ],
   "source": [
    "name = \"John\"\n",
    "print(\"Hello {}\".format(name))\n",
    "print(\"Hello {}, you are {} year old!\".format(name, 28))"
   ]
  },
  {
   "cell_type": "code",
   "execution_count": 22,
   "id": "dfcad598",
   "metadata": {},
   "outputs": [
    {
     "name": "stdout",
     "output_type": "stream",
     "text": [
      "H\n",
      "e\n",
      "l\n",
      "o\n",
      "l\n"
     ]
    }
   ],
   "source": [
    "word = \"Hello\"\n",
    "print( word[0]) #will output 'H'\n",
    "print( word[1]) #will output 'e'\n",
    "print( word[2]) #will output 'l'\n",
    "print( word[-1])\n",
    "print( word[-2])\n",
    "\n"
   ]
  },
  {
   "cell_type": "code",
   "execution_count": 24,
   "id": "3bd05c9e",
   "metadata": {},
   "outputs": [
    {
     "name": "stdout",
     "output_type": "stream",
     "text": [
      "He\n",
      "Hello\n"
     ]
    }
   ],
   "source": [
    "print( word[0 : 2])\n",
    "print( word[0:5:1])"
   ]
  },
  {
   "cell_type": "code",
   "execution_count": 26,
   "id": "9e7a64e4",
   "metadata": {},
   "outputs": [
    {
     "name": "stdout",
     "output_type": "stream",
     "text": [
      "John Smith\n",
      "Greenwich University\n"
     ]
    }
   ],
   "source": [
    "#using the title method to capitalze a string\n",
    "name = \"john smith\"\n",
    "print(name.title())\n",
    "\n",
    "schoolname = \"greenwich university\"\n",
    "print(schoolname.title())\n"
   ]
  },
  {
   "cell_type": "code",
   "execution_count": 27,
   "id": "54aef91b",
   "metadata": {},
   "outputs": [
    {
     "name": "stdout",
     "output_type": "stream",
     "text": [
      "Hello\n",
      "How are you?\n"
     ]
    }
   ],
   "source": [
    "#replacing an exclamation point with a period\n",
    "words = \"Hello there!\"\n",
    "print( word.replace(\"!\", \".\"))\n",
    "\n",
    "greeting = \"How are you.\"\n",
    "print( greeting.replace(\".\", \"?\"))"
   ]
  },
  {
   "cell_type": "code",
   "execution_count": 28,
   "id": "b09cdc48",
   "metadata": {},
   "outputs": [
    {
     "name": "stdout",
     "output_type": "stream",
     "text": [
      "5\n"
     ]
    }
   ],
   "source": [
    "#finding the staring index\n",
    "s = \"Look over that way\"\n",
    "print( s.find(\"over\"))"
   ]
  },
  {
   "cell_type": "code",
   "execution_count": 30,
   "id": "be3a0e4f",
   "metadata": {},
   "outputs": [
    {
     "name": "stdout",
     "output_type": "stream",
     "text": [
      "john\n"
     ]
    }
   ],
   "source": [
    "#removing space\n",
    "name = \"john \"\n",
    "print( name.strip())"
   ]
  },
  {
   "cell_type": "code",
   "execution_count": 31,
   "id": "7f5a989b",
   "metadata": {},
   "outputs": [
    {
     "name": "stdout",
     "output_type": "stream",
     "text": [
      "['These', 'words', 'are', 'separated', 'by', 'spaces']\n",
      "['Greenwich', 'University']\n"
     ]
    }
   ],
   "source": [
    "s = \"These words are separated by spaces\"\n",
    "print( s.split(\" \"))\n",
    "\n",
    "uni = \"Greenwich.University\"\n",
    "print(uni.split(\".\"))"
   ]
  },
  {
   "cell_type": "code",
   "execution_count": null,
   "id": "b29f70f6",
   "metadata": {},
   "outputs": [],
   "source": []
  }
 ],
 "metadata": {
  "kernelspec": {
   "display_name": "Python 3 (ipykernel)",
   "language": "python",
   "name": "python3"
  },
  "language_info": {
   "codemirror_mode": {
    "name": "ipython",
    "version": 3
   },
   "file_extension": ".py",
   "mimetype": "text/x-python",
   "name": "python",
   "nbconvert_exporter": "python",
   "pygments_lexer": "ipython3",
   "version": "3.9.13"
  }
 },
 "nbformat": 4,
 "nbformat_minor": 5
}
