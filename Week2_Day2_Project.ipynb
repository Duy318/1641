{
 "cells": [
  {
   "cell_type": "code",
   "execution_count": 5,
   "id": "58056eea",
   "metadata": {},
   "outputs": [
    {
     "name": "stdout",
     "output_type": "stream",
     "text": [
      "Would you like to add/subtract/multiply/divide?divide\n",
      "You chose divide.\n",
      "Please keep in mind that the order of your numbers matter.\n",
      "What is the first number?11\n",
      "What is the second number?12\n",
      "First Number: 11\n",
      "Second Number: 12\n",
      "11.0 / 12.0 = 0.9166666666666666\n"
     ]
    }
   ],
   "source": [
    "operation = input(\"Would you like to add/subtract/multiply/divide?\").lower()\n",
    "print(\"You chose {}.\".format(operation))\n",
    "\n",
    "if operation == \"subtract\" or operation == \"divide\":\n",
    "    print(\"Please keep in mind that the order of your numbers matter.\")\n",
    "    \n",
    "num1 = input(\"What is the first number?\")\n",
    "num2 = input(\"What is the second number?\")\n",
    "print(\"First Number: {}\".format(num1))\n",
    "print(\"Second Number: {}\".format(num2))\n",
    "\n",
    "try:\n",
    "    num1, num2 = float(num1), float(num2)\n",
    "    if operation == \"add\":\n",
    "        result = num1 + num2\n",
    "        print(\"{} + {} = {}\".format(num1, num2, result))\n",
    "    elif operation == \"subtract\":\n",
    "        result = num1 - num2\n",
    "        print(\"{} - {} = {}\".format(num1, num2, result))\n",
    "    elif operation == \"multiphy\":\n",
    "        result = num1 * num2\n",
    "        print(\"{} * {} = {}\".format(num1, num2, result))\n",
    "    elif operation == \"divide\":\n",
    "        result = num1 / num2\n",
    "        print(\"{} / {} = {}\".format(num1, num2, result))\n",
    "    else:\n",
    "        print(\"Sorry, but '{}' is not an option\".format(operation))\n",
    "except:\n",
    "    print(\"Error: Improper numbers used. Please try again\")"
   ]
  },
  {
   "cell_type": "code",
   "execution_count": null,
   "id": "ac9ee59a",
   "metadata": {},
   "outputs": [],
   "source": []
  }
 ],
 "metadata": {
  "kernelspec": {
   "display_name": "Python 3 (ipykernel)",
   "language": "python",
   "name": "python3"
  },
  "language_info": {
   "codemirror_mode": {
    "name": "ipython",
    "version": 3
   },
   "file_extension": ".py",
   "mimetype": "text/x-python",
   "name": "python",
   "nbconvert_exporter": "python",
   "pygments_lexer": "ipython3",
   "version": "3.9.13"
  }
 },
 "nbformat": 4,
 "nbformat_minor": 5
}
