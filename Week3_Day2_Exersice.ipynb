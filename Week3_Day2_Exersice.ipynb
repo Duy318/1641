{
 "cells": [
  {
   "cell_type": "code",
   "execution_count": 2,
   "id": "c2683777",
   "metadata": {},
   "outputs": [
    {
     "name": "stdout",
     "output_type": "stream",
     "text": [
      "My name is: Hai Duy Hoang\n"
     ]
    }
   ],
   "source": [
    "def printName(myname):\n",
    "    print(\"My name is: {}\".format(myname))\n",
    "    \n",
    "printName(\"Hai Duy Hoang\")\n"
   ]
  },
  {
   "cell_type": "code",
   "execution_count": 5,
   "id": "7b4338d7",
   "metadata": {},
   "outputs": [
    {
     "name": "stdout",
     "output_type": "stream",
     "text": [
      "a,b,c\n",
      "a,b,c\n",
      "a,b,c\n"
     ]
    }
   ],
   "source": [
    "def pizzaToppings():\n",
    "    print(\"a,b,c\")\n",
    "    \n",
    "pizzaToppings()\n",
    "pizzaToppings()\n",
    "pizzaToppings()\n",
    "    \n"
   ]
  },
  {
   "cell_type": "code",
   "execution_count": 7,
   "id": "81a7425d",
   "metadata": {},
   "outputs": [
    {
     "name": "stdout",
     "output_type": "stream",
     "text": [
      "Enter the word: duy\n",
      "False\n"
     ]
    }
   ],
   "source": [
    "ans = input(\"Enter the word: \")\n",
    "def checkupper(word):\n",
    "    if word[0] == word[0].upper():\n",
    "        print(True)\n",
    "    else:\n",
    "        print(False)\n",
    "        \n",
    "checkupper(ans)"
   ]
  },
  {
   "cell_type": "code",
   "execution_count": 8,
   "id": "3891d461",
   "metadata": {},
   "outputs": [
    {
     "name": "stdout",
     "output_type": "stream",
     "text": [
      "No name passed in.\n",
      "Duy \n",
      "Duy Tan\n"
     ]
    }
   ],
   "source": [
    "def outputName(first_name=\"\", last_name=\"\"):\n",
    "    if not first_name and not last_name:\n",
    "        print(\"No name passed in.\")\n",
    "    else:\n",
    "        print(first_name, last_name)\n",
    "        \n",
    "outputName()\n",
    "outputName(\"Duy\")\n",
    "outputName(\"Duy\", \"Tan\")"
   ]
  },
  {
   "cell_type": "code",
   "execution_count": 11,
   "id": "f612a00e",
   "metadata": {},
   "outputs": [
    {
     "data": {
      "text/plain": [
       "'DuyKobe'"
      ]
     },
     "execution_count": 11,
     "metadata": {},
     "output_type": "execute_result"
    }
   ],
   "source": [
    "def joinedNames(first, last):\n",
    "    return first + \"\" + last\n",
    "\n",
    "joinedNames(\"Duy\", \"Kobe\")"
   ]
  },
  {
   "cell_type": "code",
   "execution_count": 12,
   "id": "ccb112d1",
   "metadata": {},
   "outputs": [
    {
     "name": "stdout",
     "output_type": "stream",
     "text": [
      "Type a word: duy\n",
      "duy\n"
     ]
    }
   ],
   "source": [
    "def returnFunction():\n",
    "    return input(\"Type a word: \")\n",
    "\n",
    "ans = returnFunction()\n",
    "\n",
    "print(ans)"
   ]
  },
  {
   "cell_type": "code",
   "execution_count": 13,
   "id": "cd7003c3",
   "metadata": {},
   "outputs": [
    {
     "name": "stdout",
     "output_type": "stream",
     "text": [
      "['Bob', 'Bill', 'Amanda']\n"
     ]
    }
   ],
   "source": [
    "names = [\"Bob\", \"Rich\", \"Amanda\"]\n",
    "\n",
    "def changeValue(aList, name, index):\n",
    "    aList[index] = name\n",
    "    \n",
    "changeValue(names, \"Bill\", 1)\n",
    "\n",
    "print(names)"
   ]
  },
  {
   "cell_type": "code",
   "execution_count": null,
   "id": "9c6e88d0",
   "metadata": {},
   "outputs": [
    {
     "name": "stdout",
     "output_type": "stream",
     "text": [
      "1) Grapes has been removed.\n"
     ]
    }
   ],
   "source": [
    "from IPython.display import clear_output\n",
    "cart = []\n",
    "\n",
    "def addItem(item):\n",
    "    clear_output()\n",
    "    cart.append(item)\n",
    "    print('{} has been added.'.format(item))\n",
    "\n",
    "def removeItem(item):\n",
    "    clear_output()\n",
    "    try:\n",
    "        if item.isdigit():\n",
    "            item_removed = cart.pop(int(item) - 1)\n",
    "            print('{} has been removed.'.format(item_removed))\n",
    "        else:\n",
    "            cart.remove(item)\n",
    "            print('{} has been removed.'.format(item))\n",
    "    except:\n",
    "        print('Sorry we could not remove that item.')\n",
    "        \n",
    "def showCart():\n",
    "    clear_output()\n",
    "    if cart:\n",
    "        print('Here is your cart:')\n",
    "        for i in range(len(cart)):\n",
    "            print('{}) {}'.format(i + 1, cart[i]))\n",
    "    else:\n",
    "        print('Your cart is empty.')\n",
    "\n",
    "def clearCart():\n",
    "    clear_output()\n",
    "    cart.clear()\n",
    "    print('Your cart is empty.')\n",
    "\n",
    "def main():\n",
    "    done = False\n",
    "    \n",
    "    while not done:\n",
    "        ans = input('quit/add/remove/show/clear: ').lower()\n",
    "        if ans == 'quit':\n",
    "            print('Thanks for using our program.')\n",
    "            showCart()\n",
    "            done = True\n",
    "        elif ans == 'add':\n",
    "            item = input('What would you like to add? ').title()\n",
    "            addItem(item)\n",
    "        elif ans == 'remove':\n",
    "            showCart()\n",
    "            item = input('What item would you like to remove? ').title()\n",
    "            removeItem(item)\n",
    "        elif ans == 'show':\n",
    "            showCart()\n",
    "        elif ans == 'clear':\n",
    "            clearCart()\n",
    "        else:\n",
    "            print('Sorry that was not an option.')\n",
    "\n",
    "main()"
   ]
  },
  {
   "cell_type": "code",
   "execution_count": null,
   "id": "aea9e494",
   "metadata": {},
   "outputs": [],
   "source": []
  }
 ],
 "metadata": {
  "kernelspec": {
   "display_name": "Python 3 (ipykernel)",
   "language": "python",
   "name": "python3"
  },
  "language_info": {
   "codemirror_mode": {
    "name": "ipython",
    "version": 3
   },
   "file_extension": ".py",
   "mimetype": "text/x-python",
   "name": "python",
   "nbconvert_exporter": "python",
   "pygments_lexer": "ipython3",
   "version": "3.9.13"
  }
 },
 "nbformat": 4,
 "nbformat_minor": 5
}
