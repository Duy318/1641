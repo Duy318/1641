{
 "cells": [
  {
   "cell_type": "code",
   "execution_count": null,
   "id": "019ce1bb",
   "metadata": {},
   "outputs": [
    {
     "name": "stdout",
     "output_type": "stream",
     "text": [
      "Here is your cart:\n",
      "- Chicken\n",
      "Your cart is empty:\n"
     ]
    }
   ],
   "source": [
    "from IPython.display import clear_output\n",
    "cart =[]\n",
    "\n",
    "def addItem(item):\n",
    "    clear_output()\n",
    "    cart.append(item)\n",
    "    print(\"{} has been added.\".format(item))\n",
    "    \n",
    "def removeItem(item):\n",
    "    clear_output()\n",
    "    try:\n",
    "        cart.remove(item)\n",
    "        print(\"{} has been removed\".format(item))\n",
    "    except:\n",
    "        print(\"Sorry we could not remove that item.\")\n",
    "        \n",
    "def showCart():\n",
    "    clear_output()\n",
    "    if cart:\n",
    "        print(\"Here is your cart:\")\n",
    "        for item in cart:\n",
    "            print(\"- {}\".format(item))\n",
    "        else:\n",
    "            print(\"Your cart is empty:\")\n",
    "            \n",
    "def clearCart():\n",
    "    clear_output()\n",
    "    cart.clear()\n",
    "    print(\"Your cart is empty.\")\n",
    "    \n",
    "def doShopping():\n",
    "    finish_shopping = False\n",
    "    while not finish_shopping:\n",
    "        ans = input(\"Type what you want to do: quit/add/remove/show/clear.\".lower())\n",
    "        if ans == \"quit\":\n",
    "            showCart()\n",
    "            print(\"Thanks for using our shopping cart program\")\n",
    "            finish_shopping = True\n",
    "        elif ans == \"add\":\n",
    "            myitem = input(\"What do you like to add in your cart?\".title())\n",
    "            addItem(myitem)\n",
    "        elif ans == \"remove\":\n",
    "            myitem = input(\"What do you like to remove from your cart?\".title())\n",
    "            removeItem(myitem)\n",
    "        elif ans == \"show\":\n",
    "            showCart()\n",
    "        elif ans ==\"clear\":\n",
    "            clearCart()\n",
    "        else:\n",
    "            print(\"Sorry that was not an option\")\n",
    "\n",
    "doShopping()"
   ]
  },
  {
   "cell_type": "code",
   "execution_count": null,
   "id": "76845d1a",
   "metadata": {},
   "outputs": [],
   "source": []
  }
 ],
 "metadata": {
  "kernelspec": {
   "display_name": "Python 3 (ipykernel)",
   "language": "python",
   "name": "python3"
  },
  "language_info": {
   "codemirror_mode": {
    "name": "ipython",
    "version": 3
   },
   "file_extension": ".py",
   "mimetype": "text/x-python",
   "name": "python",
   "nbconvert_exporter": "python",
   "pygments_lexer": "ipython3",
   "version": "3.9.13"
  }
 },
 "nbformat": 4,
 "nbformat_minor": 5
}
